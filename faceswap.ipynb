{
  "nbformat": 4,
  "nbformat_minor": 0,
  "metadata": {
    "colab": {
      "name": "faceswap.ipynb",
      "provenance": [],
      "collapsed_sections": [],
      "toc_visible": true,
      "include_colab_link": true
    },
    "kernelspec": {
      "name": "python3",
      "display_name": "Python 3"
    },
    "accelerator": "GPU"
  },
  "cells": [
    {
      "cell_type": "markdown",
      "metadata": {
        "id": "view-in-github",
        "colab_type": "text"
      },
      "source": [
        "<a href=\"https://colab.research.google.com/github/torzdf/faceswap/blob/colab/faceswap.ipynb\" target=\"_parent\"><img src=\"https://colab.research.google.com/assets/colab-badge.svg\" alt=\"Open In Colab\"/></a>"
      ]
    },
    {
      "cell_type": "markdown",
      "metadata": {
        "id": "me3hkgpOh_Cz",
        "colab_type": "text"
      },
      "source": [
        "<p align=\"left\">\n",
        "  <a href=\"https://faceswap.dev\"><img src=\"https://i.imgur.com/zHvjHnb.png\"></img></a>Welcome to the FaceSwap Notebook\n",
        "</p>\n",
        "\n"
      ]
    },
    {
      "cell_type": "markdown",
      "metadata": {
        "id": "XVhBIQ2nKify",
        "colab_type": "text"
      },
      "source": [
        "The FaceSwap Notebook is a means of running FaceSwap on Google Colab.\n",
        "\n",
        "Colab will give you a free GPU for up to a 12 hour period (as long as your browser window remains open).\n",
        "\n",
        "Please make sure you understand Google Colaboratory's terms of service. This notebook is for testing out Faceswap and experimenting. It is not for creating swaps on an industrial scale. [See here for more info](https://research.google.com/colaboratory/faq.html#gpu-availability).\n",
        "\n",
        "At a minimum you must run the [Prerequisites](#scrollTo=GVzyxw4xkKI7). Once complete, you can jump to the section that your require.\n",
        "\n",
        "**NB:** This notebook is provided as a courtesy. It is not a priority for the FaceSwap project so there is no guarantee that it will remain up to date and support is likely to be limited. Please be aware that this Notebook lacks some features from the full application."
      ]
    },
    {
      "cell_type": "markdown",
      "metadata": {
        "id": "nffWLywssMXh",
        "colab_type": "toc"
      },
      "source": [
        ">[Prerequisites](#scrollTo=GVzyxw4xkKI7)\n",
        "\n",
        ">>[GPU Check](#scrollTo=_jYRKp5zkYMU)\n",
        "\n",
        ">>[Link Google Drive](#scrollTo=Sb1aWvH3phjA)\n",
        "\n",
        ">>[Get FaceSwap](#scrollTo=oql-3Tf7lquV)\n",
        "\n",
        ">[Extract](#scrollTo=aWiYFqK4R64L)\n",
        "\n",
        ">[Train](#scrollTo=o_M1CIMUr0hR)\n",
        "\n",
        ">[Convert](#scrollTo=_Kp5gjPqr0_x)\n",
        "\n"
      ]
    },
    {
      "cell_type": "markdown",
      "metadata": {
        "id": "GVzyxw4xkKI7",
        "colab_type": "text"
      },
      "source": [
        "# Prerequisites\n",
        "First up we need to make sure we have a GPU instance and set up our environment.\n",
        "\n",
        "Whatever task you plan to perform, you must run these steps first."
      ]
    },
    {
      "cell_type": "markdown",
      "metadata": {
        "id": "_jYRKp5zkYMU",
        "colab_type": "text"
      },
      "source": [
        "## GPU Check\n",
        "Run the following code block to make sure you have been allocated a GPU:"
      ]
    },
    {
      "cell_type": "code",
      "metadata": {
        "id": "uC12cr74iDTz",
        "colab_type": "code",
        "cellView": "form",
        "outputId": "d1dc45b7-0556-4db4-9fe9-b269c344fc09",
        "colab": {
          "base_uri": "https://localhost:8080/",
          "height": 329
        }
      },
      "source": [
        "#@title\n",
        "!nvidia-smi"
      ],
      "execution_count": 0,
      "outputs": [
        {
          "output_type": "stream",
          "text": [
            "Wed Dec 11 02:49:12 2019       \n",
            "+-----------------------------------------------------------------------------+\n",
            "| NVIDIA-SMI 440.36       Driver Version: 418.67       CUDA Version: 10.1     |\n",
            "|-------------------------------+----------------------+----------------------+\n",
            "| GPU  Name        Persistence-M| Bus-Id        Disp.A | Volatile Uncorr. ECC |\n",
            "| Fan  Temp  Perf  Pwr:Usage/Cap|         Memory-Usage | GPU-Util  Compute M. |\n",
            "|===============================+======================+======================|\n",
            "|   0  Tesla K80           Off  | 00000000:00:04.0 Off |                    0 |\n",
            "| N/A   71C    P8    36W / 149W |      0MiB / 11441MiB |      0%      Default |\n",
            "+-------------------------------+----------------------+----------------------+\n",
            "                                                                               \n",
            "+-----------------------------------------------------------------------------+\n",
            "| Processes:                                                       GPU Memory |\n",
            "|  GPU       PID   Type   Process name                             Usage      |\n",
            "|=============================================================================|\n",
            "|  No running processes found                                                 |\n",
            "+-----------------------------------------------------------------------------+\n"
          ],
          "name": "stdout"
        }
      ]
    },
    {
      "cell_type": "markdown",
      "metadata": {
        "id": "uJDVxE5ujFbH",
        "colab_type": "text"
      },
      "source": [
        " You should receive output similar to below:\n",
        "```\n",
        "+-----------------------------------------------------------------------------+\n",
        "| NVIDIA-SMI 440.36       Driver Version: 418.67       CUDA Version: 10.1     |\n",
        "|-------------------------------+----------------------+----------------------+\n",
        "| GPU  Name        Persistence-M| Bus-Id        Disp.A | Volatile Uncorr. ECC |\n",
        "| Fan  Temp  Perf  Pwr:Usage/Cap|         Memory-Usage | GPU-Util  Compute M. |\n",
        "|===============================+======================+======================|\n",
        "|   0  Tesla P100-PCIE...  Off  | 00000000:00:04.0 Off |                    0 |\n",
        "| N/A   36C    P0    26W / 250W |      0MiB / 16280MiB |      0%      Default |\n",
        "+-------------------------------+----------------------+----------------------+\n",
        "                                                                               \n",
        "+-----------------------------------------------------------------------------+\n",
        "| Processes:                                                       GPU Memory |\n",
        "|  GPU       PID   Type   Process name                             Usage      |\n",
        "|=============================================================================|\n",
        "|  No running processes found                                                 |\n",
        "+-----------------------------------------------------------------------------+\n",
        "```\n",
        "\n",
        "If you have not been allocated a GPU then select `Runtime` > `Change runtime type` from the top menu and ensure that the `Runtime type` is `Python 3` and `Hardware Acceleration` is `GPU`"
      ]
    },
    {
      "cell_type": "markdown",
      "metadata": {
        "id": "Sb1aWvH3phjA",
        "colab_type": "text"
      },
      "source": [
        "## Link Google Drive\n",
        "Now we know we have a GPU instance, we need to link your Google Drive.\n",
        "\n",
        "You will need to give Colab permissions to mount your drive, so run the code block below and follow the instructions to mount your drive:"
      ]
    },
    {
      "cell_type": "code",
      "metadata": {
        "id": "Au4XSkozmh61",
        "colab_type": "code",
        "cellView": "form",
        "outputId": "be0f4352-ff42-4375-f5ac-f5eb04b3333c",
        "colab": {
          "base_uri": "https://localhost:8080/",
          "height": 35
        }
      },
      "source": [
        "#@title\n",
        "import os\n",
        "_ROOT=\"/content/drive/My Drive/_faceswap_colab\"\n",
        "from google.colab import drive\n",
        "drive.mount('/content/drive/', force_remount=True)\n",
        "\n",
        "if not os.path.exists(_ROOT):\n",
        "  !mkdir \"$_ROOT\""
      ],
      "execution_count": 0,
      "outputs": [
        {
          "output_type": "stream",
          "text": [
            "Mounted at /content/drive/\n"
          ],
          "name": "stdout"
        }
      ]
    },
    {
      "cell_type": "markdown",
      "metadata": {
        "id": "oql-3Tf7lquV",
        "colab_type": "text"
      },
      "source": [
        "## Get FaceSwap\n",
        "Time to tell Colab where to find/install the FaceSwap App. Select your options in the form, then hit play:"
      ]
    },
    {
      "cell_type": "code",
      "metadata": {
        "id": "f3EcqWK8dgbO",
        "colab_type": "code",
        "cellView": "both",
        "outputId": "28321183-1659-4586-9550-4151fea1c1f8",
        "colab": {
          "base_uri": "https://localhost:8080/",
          "height": 1000
        }
      },
      "source": [
        "#@title App install location\n",
        "#@markdown Where do you want Faceswap installed?\n",
        "#@markdown * GoogleDrive: [Recommended] - Store the FaceSwap App on your Google\n",
        "#@markdown Drive. This means any config files that are changed won't get lost\n",
        "#@markdown when the instance destroys. However it will take up about 200MB of\n",
        "#@markdown space.\n",
        "#@markdown * Local: FaceSwap App will be stored in the Colab Notebook. The app\n",
        "#@markdown will disappear when the instance dies.\n",
        "location = \"GoogleDrive\"  #@param ['GoogleDrive', 'Local']\n",
        "#@markdown Do You want to update an existing app or create a new one?\n",
        "#@markdown * Update: [Recommended] - If the FaceSwap App is already installed in\n",
        "#@markdown the chosen location, it will be updated. If the app doesn't already\n",
        "#@markdown exist, it will be installed.\n",
        "#@markdown * New: Uninstall any installed FaceSwap App and Reinstall for the\n",
        "#@markdown chosen location.\n",
        "app_update = \"Update\"  #@param ['New', 'Update']\n",
        "\n",
        "import os\n",
        "import shutil\n",
        "_ROOT=\"/content/drive/My Drive/_faceswap_colab\" if location == \"GoogleDrive\" else \".\"\n",
        "_APPDIR=os.path.join(_ROOT, \"faceswap\")\n",
        "_APP=os.path.join(_APPDIR, \"faceswap.py\")\n",
        "fs_backend_path=os.path.join(_APPDIR, \"config\", \".faceswap\")\n",
        "!pip install tensorflow-gpu==1.15\n",
        "!echo -en \"\\e[33m\"\n",
        "print(\"App Location:\", _APP)\n",
        "if app_update == \"New\" or not os.path.isfile(_APP):\n",
        "  if os.path.isdir(_APPDIR):\n",
        "    print(\"Uninstalling pre-existing app...\")\n",
        "    shutil.rmtree(_APPDIR)\n",
        "  print(\"Getting Faceswap...\")\n",
        "  !echo -en \"\\e[0m\"\n",
        "  !git clone --depth 1 -b master https://github.com/deepfakes/faceswap.git \"$_APPDIR\"\n",
        "  %cd \"$_APPDIR\"\n",
        "  !echo -en \"\\e[33m\"\n",
        "  print(\"Installing Dependencies. This may take a minute or two...\")\n",
        "  !echo -en \"\\e[0m\"\n",
        "  !pip install -r \"$_APPDIR/requirements.txt\"\n",
        "  !echo -en \"\\e[33m\"\n",
        "  print(\"Setting backend to nvidia:\", fs_backend_path)\n",
        "  with open(fs_backend_path, \"w\") as backend_config:\n",
        "    backend_config.write(\"{\\\"backend\\\": \\\"nvidia\\\"}\")\n",
        "else:\n",
        "  !echo -en \"\\e[33m\"\n",
        "  print(\"Updating Dependencies. This may take a minute or two...\")\n",
        "  !echo -en \"\\e[0m\"\n",
        "  %cd \"$_APPDIR\"\n",
        "  !git pull 2>&1\n",
        "  !echo -en \"\\e[33m\"\n",
        "  print(\"Setting backend to nvidia:\", fs_backend_path)\n",
        "  !echo -en \"\\e[0m\"\n",
        "  with open(fs_backend_path, \"w\") as backend_config:\n",
        "    backend_config.write(\"{\\\"backend\\\": \\\"nvidia\\\"}\")\n",
        "  !python \"$_APPDIR/update_deps.py\"\n",
        "\n",
        "!echo -en \"\\e[0m\"\n",
        "\n"
      ],
      "execution_count": 0,
      "outputs": [
        {
          "output_type": "stream",
          "text": [
            "\u001b[33mApp Location: /content/drive/My Drive/_faceswap_colab/faceswap/faceswap.py\n",
            "Uninstalling pre-existing app...\n",
            "Getting Faceswap...\n",
            "\u001b[0mCloning into '/content/drive/My Drive/_faceswap_colab/faceswap'...\n",
            "remote: Enumerating objects: 261, done.\u001b[K\n",
            "remote: Counting objects: 100% (261/261), done.\u001b[K\n",
            "remote: Compressing objects: 100% (232/232), done.\u001b[K\n",
            "remote: Total 261 (delta 56), reused 91 (delta 22), pack-reused 0\u001b[K\n",
            "Receiving objects: 100% (261/261), 634.48 KiB | 1.69 MiB/s, done.\n",
            "Resolving deltas: 100% (56/56), done.\n",
            "Checking out files: 100% (251/251), done.\n",
            "\u001b[33mInstalling Dependencies. This may take a minute or two...\n",
            "\u001b[0mIgnoring pywin32: markers 'sys_platform == \"win32\"' don't match your environment\n",
            "Ignoring pynvx: markers 'sys_platform == \"darwin\"' don't match your environment\n",
            "Collecting git+https://github.com/deepfakes/nvidia-ml-py3.git (from -r /content/drive/My Drive/_faceswap_colab/faceswap/requirements.txt (line 16))\n",
            "  Cloning https://github.com/deepfakes/nvidia-ml-py3.git to /tmp/pip-req-build-vft8qxeq\n",
            "  Running command git clone -q https://github.com/deepfakes/nvidia-ml-py3.git /tmp/pip-req-build-vft8qxeq\n",
            "Requirement already satisfied (use --upgrade to upgrade): nvidia-ml-py3==7.352.1 from git+https://github.com/deepfakes/nvidia-ml-py3.git in /usr/local/lib/python3.6/dist-packages (from -r /content/drive/My Drive/_faceswap_colab/faceswap/requirements.txt (line 16))\n",
            "Requirement already satisfied: tqdm in /usr/local/lib/python3.6/dist-packages (from -r /content/drive/My Drive/_faceswap_colab/faceswap/requirements.txt (line 1)) (4.28.1)\n",
            "Requirement already satisfied: psutil in /usr/local/lib/python3.6/dist-packages (from -r /content/drive/My Drive/_faceswap_colab/faceswap/requirements.txt (line 2)) (5.4.8)\n",
            "Requirement already satisfied: pathlib in /usr/local/lib/python3.6/dist-packages (from -r /content/drive/My Drive/_faceswap_colab/faceswap/requirements.txt (line 3)) (1.0.1)\n",
            "Requirement already satisfied: numpy==1.17.4 in /usr/local/lib/python3.6/dist-packages (from -r /content/drive/My Drive/_faceswap_colab/faceswap/requirements.txt (line 4)) (1.17.4)\n",
            "Requirement already satisfied: opencv-python==4.1.2.30 in /usr/local/lib/python3.6/dist-packages (from -r /content/drive/My Drive/_faceswap_colab/faceswap/requirements.txt (line 5)) (4.1.2.30)\n",
            "Requirement already satisfied: scikit-image in /usr/local/lib/python3.6/dist-packages (from -r /content/drive/My Drive/_faceswap_colab/faceswap/requirements.txt (line 6)) (0.15.0)\n",
            "Requirement already satisfied: Pillow==6.2.1 in /usr/local/lib/python3.6/dist-packages (from -r /content/drive/My Drive/_faceswap_colab/faceswap/requirements.txt (line 7)) (6.2.1)\n",
            "Requirement already satisfied: scikit-learn in /usr/local/lib/python3.6/dist-packages (from -r /content/drive/My Drive/_faceswap_colab/faceswap/requirements.txt (line 8)) (0.21.3)\n",
            "Requirement already satisfied: toposort in /usr/local/lib/python3.6/dist-packages (from -r /content/drive/My Drive/_faceswap_colab/faceswap/requirements.txt (line 9)) (1.5)\n",
            "Requirement already satisfied: fastcluster in /usr/local/lib/python3.6/dist-packages (from -r /content/drive/My Drive/_faceswap_colab/faceswap/requirements.txt (line 10)) (1.1.25)\n",
            "Requirement already satisfied: matplotlib==3.1.1 in /usr/local/lib/python3.6/dist-packages (from -r /content/drive/My Drive/_faceswap_colab/faceswap/requirements.txt (line 11)) (3.1.1)\n",
            "Requirement already satisfied: imageio==2.6.1 in /usr/local/lib/python3.6/dist-packages (from -r /content/drive/My Drive/_faceswap_colab/faceswap/requirements.txt (line 12)) (2.6.1)\n",
            "Requirement already satisfied: imageio-ffmpeg in /usr/local/lib/python3.6/dist-packages (from -r /content/drive/My Drive/_faceswap_colab/faceswap/requirements.txt (line 13)) (0.3.0)\n",
            "Requirement already satisfied: ffmpy==0.2.2 in /usr/local/lib/python3.6/dist-packages (from -r /content/drive/My Drive/_faceswap_colab/faceswap/requirements.txt (line 14)) (0.2.2)\n",
            "Requirement already satisfied: h5py==2.9.0 in /usr/local/lib/python3.6/dist-packages (from -r /content/drive/My Drive/_faceswap_colab/faceswap/requirements.txt (line 18)) (2.9.0)\n",
            "Requirement already satisfied: Keras==2.2.4 in /usr/local/lib/python3.6/dist-packages (from -r /content/drive/My Drive/_faceswap_colab/faceswap/requirements.txt (line 19)) (2.2.4)\n",
            "Requirement already satisfied: scipy>=0.17.0 in /usr/local/lib/python3.6/dist-packages (from scikit-image->-r /content/drive/My Drive/_faceswap_colab/faceswap/requirements.txt (line 6)) (1.3.3)\n",
            "Requirement already satisfied: networkx>=2.0 in /usr/local/lib/python3.6/dist-packages (from scikit-image->-r /content/drive/My Drive/_faceswap_colab/faceswap/requirements.txt (line 6)) (2.4)\n",
            "Requirement already satisfied: PyWavelets>=0.4.0 in /usr/local/lib/python3.6/dist-packages (from scikit-image->-r /content/drive/My Drive/_faceswap_colab/faceswap/requirements.txt (line 6)) (1.1.1)\n",
            "Requirement already satisfied: joblib>=0.11 in /usr/local/lib/python3.6/dist-packages (from scikit-learn->-r /content/drive/My Drive/_faceswap_colab/faceswap/requirements.txt (line 8)) (0.14.0)\n",
            "Requirement already satisfied: kiwisolver>=1.0.1 in /usr/local/lib/python3.6/dist-packages (from matplotlib==3.1.1->-r /content/drive/My Drive/_faceswap_colab/faceswap/requirements.txt (line 11)) (1.1.0)\n",
            "Requirement already satisfied: cycler>=0.10 in /usr/local/lib/python3.6/dist-packages (from matplotlib==3.1.1->-r /content/drive/My Drive/_faceswap_colab/faceswap/requirements.txt (line 11)) (0.10.0)\n",
            "Requirement already satisfied: pyparsing!=2.0.4,!=2.1.2,!=2.1.6,>=2.0.1 in /usr/local/lib/python3.6/dist-packages (from matplotlib==3.1.1->-r /content/drive/My Drive/_faceswap_colab/faceswap/requirements.txt (line 11)) (2.4.5)\n",
            "Requirement already satisfied: python-dateutil>=2.1 in /usr/local/lib/python3.6/dist-packages (from matplotlib==3.1.1->-r /content/drive/My Drive/_faceswap_colab/faceswap/requirements.txt (line 11)) (2.6.1)\n",
            "Requirement already satisfied: six in /usr/local/lib/python3.6/dist-packages (from h5py==2.9.0->-r /content/drive/My Drive/_faceswap_colab/faceswap/requirements.txt (line 18)) (1.12.0)\n",
            "Requirement already satisfied: pyyaml in /usr/local/lib/python3.6/dist-packages (from Keras==2.2.4->-r /content/drive/My Drive/_faceswap_colab/faceswap/requirements.txt (line 19)) (3.13)\n",
            "Requirement already satisfied: keras-applications>=1.0.6 in /usr/local/lib/python3.6/dist-packages (from Keras==2.2.4->-r /content/drive/My Drive/_faceswap_colab/faceswap/requirements.txt (line 19)) (1.0.8)\n",
            "Requirement already satisfied: keras-preprocessing>=1.0.5 in /usr/local/lib/python3.6/dist-packages (from Keras==2.2.4->-r /content/drive/My Drive/_faceswap_colab/faceswap/requirements.txt (line 19)) (1.1.0)\n",
            "Requirement already satisfied: decorator>=4.3.0 in /usr/local/lib/python3.6/dist-packages (from networkx>=2.0->scikit-image->-r /content/drive/My Drive/_faceswap_colab/faceswap/requirements.txt (line 6)) (4.4.1)\n",
            "Requirement already satisfied: setuptools in /usr/local/lib/python3.6/dist-packages (from kiwisolver>=1.0.1->matplotlib==3.1.1->-r /content/drive/My Drive/_faceswap_colab/faceswap/requirements.txt (line 11)) (42.0.2)\n",
            "Building wheels for collected packages: nvidia-ml-py3\n",
            "  Building wheel for nvidia-ml-py3 (setup.py) ... \u001b[?25l\u001b[?25hdone\n",
            "  Created wheel for nvidia-ml-py3: filename=nvidia_ml_py3-7.352.1-cp36-none-any.whl size=19268 sha256=3a0c894ecdbdbf5fdeba59d541f56321f6b9349980ba28c3fe826e3252c4d6b6\n",
            "  Stored in directory: /tmp/pip-ephem-wheel-cache-gabentze/wheels/68/a1/dd/fc48b42f331cd35e0dc0d6d75804a6b21839f30b095c43ffc8\n",
            "Successfully built nvidia-ml-py3\n",
            "Requirement already satisfied: tensorflow-gpu==1.15 in /usr/local/lib/python3.6/dist-packages (1.15.0)\n",
            "Requirement already satisfied: wrapt>=1.11.1 in /usr/local/lib/python3.6/dist-packages (from tensorflow-gpu==1.15) (1.11.2)\n",
            "Requirement already satisfied: gast==0.2.2 in /usr/local/lib/python3.6/dist-packages (from tensorflow-gpu==1.15) (0.2.2)\n",
            "Requirement already satisfied: protobuf>=3.6.1 in /usr/local/lib/python3.6/dist-packages (from tensorflow-gpu==1.15) (3.10.0)\n",
            "Requirement already satisfied: grpcio>=1.8.6 in /usr/local/lib/python3.6/dist-packages (from tensorflow-gpu==1.15) (1.15.0)\n",
            "Requirement already satisfied: wheel>=0.26 in /usr/local/lib/python3.6/dist-packages (from tensorflow-gpu==1.15) (0.33.6)\n",
            "Requirement already satisfied: google-pasta>=0.1.6 in /usr/local/lib/python3.6/dist-packages (from tensorflow-gpu==1.15) (0.1.8)\n",
            "Requirement already satisfied: six>=1.10.0 in /usr/local/lib/python3.6/dist-packages (from tensorflow-gpu==1.15) (1.12.0)\n",
            "Requirement already satisfied: opt-einsum>=2.3.2 in /usr/local/lib/python3.6/dist-packages (from tensorflow-gpu==1.15) (3.1.0)\n",
            "Requirement already satisfied: numpy<2.0,>=1.16.0 in /usr/local/lib/python3.6/dist-packages (from tensorflow-gpu==1.15) (1.17.4)\n",
            "Requirement already satisfied: astor>=0.6.0 in /usr/local/lib/python3.6/dist-packages (from tensorflow-gpu==1.15) (0.8.0)\n",
            "Requirement already satisfied: tensorflow-estimator==1.15.1 in /usr/local/lib/python3.6/dist-packages (from tensorflow-gpu==1.15) (1.15.1)\n",
            "Requirement already satisfied: keras-applications>=1.0.8 in /usr/local/lib/python3.6/dist-packages (from tensorflow-gpu==1.15) (1.0.8)\n",
            "Requirement already satisfied: termcolor>=1.1.0 in /usr/local/lib/python3.6/dist-packages (from tensorflow-gpu==1.15) (1.1.0)\n",
            "Requirement already satisfied: tensorboard<1.16.0,>=1.15.0 in /usr/local/lib/python3.6/dist-packages (from tensorflow-gpu==1.15) (1.15.0)\n",
            "Requirement already satisfied: keras-preprocessing>=1.0.5 in /usr/local/lib/python3.6/dist-packages (from tensorflow-gpu==1.15) (1.1.0)\n",
            "Requirement already satisfied: absl-py>=0.7.0 in /usr/local/lib/python3.6/dist-packages (from tensorflow-gpu==1.15) (0.8.1)\n",
            "Requirement already satisfied: setuptools in /usr/local/lib/python3.6/dist-packages (from protobuf>=3.6.1->tensorflow-gpu==1.15) (42.0.2)\n",
            "Requirement already satisfied: h5py in /usr/local/lib/python3.6/dist-packages (from keras-applications>=1.0.8->tensorflow-gpu==1.15) (2.9.0)\n",
            "Requirement already satisfied: markdown>=2.6.8 in /usr/local/lib/python3.6/dist-packages (from tensorboard<1.16.0,>=1.15.0->tensorflow-gpu==1.15) (3.1.1)\n",
            "Requirement already satisfied: werkzeug>=0.11.15 in /usr/local/lib/python3.6/dist-packages (from tensorboard<1.16.0,>=1.15.0->tensorflow-gpu==1.15) (0.16.0)\n",
            "\u001b[33mSetting backend to nvidia: /content/drive/My Drive/_faceswap_colab/faceswap/config/.faceswap\n",
            "\u001b[0m"
          ],
          "name": "stdout"
        }
      ]
    },
    {
      "cell_type": "markdown",
      "metadata": {
        "id": "QwOvPLJsrIbO",
        "colab_type": "text"
      },
      "source": [
        "We're good to go! Now decide if you want to [Extract](#scrollTo=aWiYFqK4R64L), [Train](#scrollTo=o_M1CIMUr0hR) or [Convert](#scrollTo=_Kp5gjPqr0_x)\n"
      ]
    },
    {
      "cell_type": "markdown",
      "metadata": {
        "id": "aWiYFqK4R64L",
        "colab_type": "text"
      },
      "source": [
        "# Extract\n",
        "\n",
        "Extract faces from a video or a folder of images"
      ]
    },
    {
      "cell_type": "code",
      "metadata": {
        "id": "I1_QxoSvtAzE",
        "colab_type": "code",
        "outputId": "dfb0c987-76db-4fe8-9351-0626416f3e98",
        "colab": {
          "base_uri": "https://localhost:8080/",
          "height": 1000
        }
      },
      "source": [
        "cliopts=!python \"$_APP\" extract -h\n",
        "opts = dict()\n",
        "for line in cliopts:\n",
        "  line = line.strip()\n",
        "  if line.startswith(\"-\") and \"--\" in line:\n",
        "    name = None\n",
        "    choices = None\n",
        "    line_opts = line.split()\n",
        "    print(\"=============================\")\n",
        "    print(line_opts)\n",
        "    opt = line_opts[0][1:].replace(\",\", \"\") \n",
        "    if line_opts[1].startswith(\"--\"):\n",
        "      name = line_opts[1].replace(\"--\", \"\")\n",
        "    elif line_opts[1].startswith(\"(\") and line_opts[1].endswith(\")\"):\n",
        "      choices=[choice for choice in line_opts[1][1:-1].split()]\n",
        "    else:\n",
        "      print(line)\n",
        "    opts[opt]=dict(name=name, choices=choices)\n",
        "    print(opts)\n"
      ],
      "execution_count": 0,
      "outputs": [
        {
          "output_type": "stream",
          "text": [
            "=============================\n",
            "['-h,', '--help', 'show', 'this', 'help', 'message', 'and', 'exit']\n",
            "{'h': {'name': 'help', 'choices': None}}\n",
            "=============================\n",
            "['-C', 'CONFIGFILE,', '--configfile', 'CONFIGFILE']\n",
            "-C CONFIGFILE, --configfile CONFIGFILE\n",
            "{'h': {'name': 'help', 'choices': None}, 'C': {'name': None, 'choices': None}}\n",
            "=============================\n",
            "['-L', '{INFO,VERBOSE,DEBUG,TRACE},', '--loglevel', '{INFO,VERBOSE,DEBUG,TRACE}']\n",
            "-L {INFO,VERBOSE,DEBUG,TRACE}, --loglevel {INFO,VERBOSE,DEBUG,TRACE}\n",
            "{'h': {'name': 'help', 'choices': None}, 'C': {'name': None, 'choices': None}, 'L': {'name': None, 'choices': None}}\n",
            "=============================\n",
            "['-LF', 'LOGFILE,', '--logfile', 'LOGFILE']\n",
            "-LF LOGFILE, --logfile LOGFILE\n",
            "{'h': {'name': 'help', 'choices': None}, 'C': {'name': None, 'choices': None}, 'L': {'name': None, 'choices': None}, 'LF': {'name': None, 'choices': None}}\n",
            "=============================\n",
            "['-i', 'INPUT_DIR,', '--input-dir', 'INPUT_DIR']\n",
            "-i INPUT_DIR, --input-dir INPUT_DIR\n",
            "{'h': {'name': 'help', 'choices': None}, 'C': {'name': None, 'choices': None}, 'L': {'name': None, 'choices': None}, 'LF': {'name': None, 'choices': None}, 'i': {'name': None, 'choices': None}}\n",
            "=============================\n",
            "['-o', 'OUTPUT_DIR,', '--output-dir', 'OUTPUT_DIR']\n",
            "-o OUTPUT_DIR, --output-dir OUTPUT_DIR\n",
            "{'h': {'name': 'help', 'choices': None}, 'C': {'name': None, 'choices': None}, 'L': {'name': None, 'choices': None}, 'LF': {'name': None, 'choices': None}, 'i': {'name': None, 'choices': None}, 'o': {'name': None, 'choices': None}}\n",
            "=============================\n",
            "['-al', 'ALIGNMENTS_PATH,', '--alignments', 'ALIGNMENTS_PATH']\n",
            "-al ALIGNMENTS_PATH, --alignments ALIGNMENTS_PATH\n",
            "{'h': {'name': 'help', 'choices': None}, 'C': {'name': None, 'choices': None}, 'L': {'name': None, 'choices': None}, 'LF': {'name': None, 'choices': None}, 'i': {'name': None, 'choices': None}, 'o': {'name': None, 'choices': None}, 'al': {'name': None, 'choices': None}}\n",
            "=============================\n",
            "['-D', '{cv2-dnn,mtcnn,s3fd},', '--detector', '{cv2-dnn,mtcnn,s3fd}']\n",
            "-D {cv2-dnn,mtcnn,s3fd}, --detector {cv2-dnn,mtcnn,s3fd}\n",
            "{'h': {'name': 'help', 'choices': None}, 'C': {'name': None, 'choices': None}, 'L': {'name': None, 'choices': None}, 'LF': {'name': None, 'choices': None}, 'i': {'name': None, 'choices': None}, 'o': {'name': None, 'choices': None}, 'al': {'name': None, 'choices': None}, 'D': {'name': None, 'choices': None}}\n",
            "=============================\n",
            "['-A', '{cv2-dnn,fan},', '--aligner', '{cv2-dnn,fan}']\n",
            "-A {cv2-dnn,fan}, --aligner {cv2-dnn,fan}\n",
            "{'h': {'name': 'help', 'choices': None}, 'C': {'name': None, 'choices': None}, 'L': {'name': None, 'choices': None}, 'LF': {'name': None, 'choices': None}, 'i': {'name': None, 'choices': None}, 'o': {'name': None, 'choices': None}, 'al': {'name': None, 'choices': None}, 'D': {'name': None, 'choices': None}, 'A': {'name': None, 'choices': None}}\n",
            "=============================\n",
            "['-M', '{none,components,extended,unet-dfl,vgg-clear,vgg-obstructed},', '--masker', '{none,components,extended,unet-dfl,vgg-clear,vgg-obstructed}']\n",
            "-M {none,components,extended,unet-dfl,vgg-clear,vgg-obstructed}, --masker {none,components,extended,unet-dfl,vgg-clear,vgg-obstructed}\n",
            "{'h': {'name': 'help', 'choices': None}, 'C': {'name': None, 'choices': None}, 'L': {'name': None, 'choices': None}, 'LF': {'name': None, 'choices': None}, 'i': {'name': None, 'choices': None}, 'o': {'name': None, 'choices': None}, 'al': {'name': None, 'choices': None}, 'D': {'name': None, 'choices': None}, 'A': {'name': None, 'choices': None}, 'M': {'name': None, 'choices': None}}\n",
            "=============================\n",
            "['-nm', '{none,clahe,hist,mean},', '--normalization', '{none,clahe,hist,mean}']\n",
            "-nm {none,clahe,hist,mean}, --normalization {none,clahe,hist,mean}\n",
            "{'h': {'name': 'help', 'choices': None}, 'C': {'name': None, 'choices': None}, 'L': {'name': None, 'choices': None}, 'LF': {'name': None, 'choices': None}, 'i': {'name': None, 'choices': None}, 'o': {'name': None, 'choices': None}, 'al': {'name': None, 'choices': None}, 'D': {'name': None, 'choices': None}, 'A': {'name': None, 'choices': None}, 'M': {'name': None, 'choices': None}, 'nm': {'name': None, 'choices': None}}\n",
            "=============================\n",
            "['-r', 'ROTATE_IMAGES,', '--rotate-images', 'ROTATE_IMAGES']\n",
            "-r ROTATE_IMAGES, --rotate-images ROTATE_IMAGES\n",
            "{'h': {'name': 'help', 'choices': None}, 'C': {'name': None, 'choices': None}, 'L': {'name': None, 'choices': None}, 'LF': {'name': None, 'choices': None}, 'i': {'name': None, 'choices': None}, 'o': {'name': None, 'choices': None}, 'al': {'name': None, 'choices': None}, 'D': {'name': None, 'choices': None}, 'A': {'name': None, 'choices': None}, 'M': {'name': None, 'choices': None}, 'nm': {'name': None, 'choices': None}, 'r': {'name': None, 'choices': None}}\n",
            "=============================\n",
            "['-min', 'MIN_SIZE,', '--min-size', 'MIN_SIZE']\n",
            "-min MIN_SIZE, --min-size MIN_SIZE\n",
            "{'h': {'name': 'help', 'choices': None}, 'C': {'name': None, 'choices': None}, 'L': {'name': None, 'choices': None}, 'LF': {'name': None, 'choices': None}, 'i': {'name': None, 'choices': None}, 'o': {'name': None, 'choices': None}, 'al': {'name': None, 'choices': None}, 'D': {'name': None, 'choices': None}, 'A': {'name': None, 'choices': None}, 'M': {'name': None, 'choices': None}, 'nm': {'name': None, 'choices': None}, 'r': {'name': None, 'choices': None}, 'min': {'name': None, 'choices': None}}\n",
            "=============================\n",
            "['-n', 'NFILTER', '[NFILTER', '...],', '--nfilter', 'NFILTER', '[NFILTER', '...]']\n",
            "-n NFILTER [NFILTER ...], --nfilter NFILTER [NFILTER ...]\n",
            "{'h': {'name': 'help', 'choices': None}, 'C': {'name': None, 'choices': None}, 'L': {'name': None, 'choices': None}, 'LF': {'name': None, 'choices': None}, 'i': {'name': None, 'choices': None}, 'o': {'name': None, 'choices': None}, 'al': {'name': None, 'choices': None}, 'D': {'name': None, 'choices': None}, 'A': {'name': None, 'choices': None}, 'M': {'name': None, 'choices': None}, 'nm': {'name': None, 'choices': None}, 'r': {'name': None, 'choices': None}, 'min': {'name': None, 'choices': None}, 'n': {'name': None, 'choices': None}}\n",
            "=============================\n",
            "['-f', 'FILTER', '[FILTER', '...],', '--filter', 'FILTER', '[FILTER', '...]']\n",
            "-f FILTER [FILTER ...], --filter FILTER [FILTER ...]\n",
            "{'h': {'name': 'help', 'choices': None}, 'C': {'name': None, 'choices': None}, 'L': {'name': None, 'choices': None}, 'LF': {'name': None, 'choices': None}, 'i': {'name': None, 'choices': None}, 'o': {'name': None, 'choices': None}, 'al': {'name': None, 'choices': None}, 'D': {'name': None, 'choices': None}, 'A': {'name': None, 'choices': None}, 'M': {'name': None, 'choices': None}, 'nm': {'name': None, 'choices': None}, 'r': {'name': None, 'choices': None}, 'min': {'name': None, 'choices': None}, 'n': {'name': None, 'choices': None}, 'f': {'name': None, 'choices': None}}\n",
            "=============================\n",
            "['-l', 'REF_THRESHOLD,', '--ref_threshold', 'REF_THRESHOLD']\n",
            "-l REF_THRESHOLD, --ref_threshold REF_THRESHOLD\n",
            "{'h': {'name': 'help', 'choices': None}, 'C': {'name': None, 'choices': None}, 'L': {'name': None, 'choices': None}, 'LF': {'name': None, 'choices': None}, 'i': {'name': None, 'choices': None}, 'o': {'name': None, 'choices': None}, 'al': {'name': None, 'choices': None}, 'D': {'name': None, 'choices': None}, 'A': {'name': None, 'choices': None}, 'M': {'name': None, 'choices': None}, 'nm': {'name': None, 'choices': None}, 'r': {'name': None, 'choices': None}, 'min': {'name': None, 'choices': None}, 'n': {'name': None, 'choices': None}, 'f': {'name': None, 'choices': None}, 'l': {'name': None, 'choices': None}}\n",
            "=============================\n",
            "['-een', 'EXTRACT_EVERY_N,', '--extract-every-n', 'EXTRACT_EVERY_N']\n",
            "-een EXTRACT_EVERY_N, --extract-every-n EXTRACT_EVERY_N\n",
            "{'h': {'name': 'help', 'choices': None}, 'C': {'name': None, 'choices': None}, 'L': {'name': None, 'choices': None}, 'LF': {'name': None, 'choices': None}, 'i': {'name': None, 'choices': None}, 'o': {'name': None, 'choices': None}, 'al': {'name': None, 'choices': None}, 'D': {'name': None, 'choices': None}, 'A': {'name': None, 'choices': None}, 'M': {'name': None, 'choices': None}, 'nm': {'name': None, 'choices': None}, 'r': {'name': None, 'choices': None}, 'min': {'name': None, 'choices': None}, 'n': {'name': None, 'choices': None}, 'f': {'name': None, 'choices': None}, 'l': {'name': None, 'choices': None}, 'een': {'name': None, 'choices': None}}\n",
            "=============================\n",
            "['-sz', 'SIZE,', '--size', 'SIZE']\n",
            "-sz SIZE, --size SIZE\n",
            "{'h': {'name': 'help', 'choices': None}, 'C': {'name': None, 'choices': None}, 'L': {'name': None, 'choices': None}, 'LF': {'name': None, 'choices': None}, 'i': {'name': None, 'choices': None}, 'o': {'name': None, 'choices': None}, 'al': {'name': None, 'choices': None}, 'D': {'name': None, 'choices': None}, 'A': {'name': None, 'choices': None}, 'M': {'name': None, 'choices': None}, 'nm': {'name': None, 'choices': None}, 'r': {'name': None, 'choices': None}, 'min': {'name': None, 'choices': None}, 'n': {'name': None, 'choices': None}, 'f': {'name': None, 'choices': None}, 'l': {'name': None, 'choices': None}, 'een': {'name': None, 'choices': None}, 'sz': {'name': None, 'choices': None}}\n",
            "=============================\n",
            "['-si', 'SAVE_INTERVAL,', '--save-interval', 'SAVE_INTERVAL']\n",
            "-si SAVE_INTERVAL, --save-interval SAVE_INTERVAL\n",
            "{'h': {'name': 'help', 'choices': None}, 'C': {'name': None, 'choices': None}, 'L': {'name': None, 'choices': None}, 'LF': {'name': None, 'choices': None}, 'i': {'name': None, 'choices': None}, 'o': {'name': None, 'choices': None}, 'al': {'name': None, 'choices': None}, 'D': {'name': None, 'choices': None}, 'A': {'name': None, 'choices': None}, 'M': {'name': None, 'choices': None}, 'nm': {'name': None, 'choices': None}, 'r': {'name': None, 'choices': None}, 'min': {'name': None, 'choices': None}, 'n': {'name': None, 'choices': None}, 'f': {'name': None, 'choices': None}, 'l': {'name': None, 'choices': None}, 'een': {'name': None, 'choices': None}, 'sz': {'name': None, 'choices': None}, 'si': {'name': None, 'choices': None}}\n",
            "=============================\n",
            "['-dl,', '--debug-landmarks']\n",
            "{'h': {'name': 'help', 'choices': None}, 'C': {'name': None, 'choices': None}, 'L': {'name': None, 'choices': None}, 'LF': {'name': None, 'choices': None}, 'i': {'name': None, 'choices': None}, 'o': {'name': None, 'choices': None}, 'al': {'name': None, 'choices': None}, 'D': {'name': None, 'choices': None}, 'A': {'name': None, 'choices': None}, 'M': {'name': None, 'choices': None}, 'nm': {'name': None, 'choices': None}, 'r': {'name': None, 'choices': None}, 'min': {'name': None, 'choices': None}, 'n': {'name': None, 'choices': None}, 'f': {'name': None, 'choices': None}, 'l': {'name': None, 'choices': None}, 'een': {'name': None, 'choices': None}, 'sz': {'name': None, 'choices': None}, 'si': {'name': None, 'choices': None}, 'dl': {'name': 'debug-landmarks', 'choices': None}}\n",
            "=============================\n",
            "['-sp,', '--singleprocess', \"Don't\", 'run', 'extraction', 'in', 'parallel.', 'Will', 'run', 'each', 'part']\n",
            "{'h': {'name': 'help', 'choices': None}, 'C': {'name': None, 'choices': None}, 'L': {'name': None, 'choices': None}, 'LF': {'name': None, 'choices': None}, 'i': {'name': None, 'choices': None}, 'o': {'name': None, 'choices': None}, 'al': {'name': None, 'choices': None}, 'D': {'name': None, 'choices': None}, 'A': {'name': None, 'choices': None}, 'M': {'name': None, 'choices': None}, 'nm': {'name': None, 'choices': None}, 'r': {'name': None, 'choices': None}, 'min': {'name': None, 'choices': None}, 'n': {'name': None, 'choices': None}, 'f': {'name': None, 'choices': None}, 'l': {'name': None, 'choices': None}, 'een': {'name': None, 'choices': None}, 'sz': {'name': None, 'choices': None}, 'si': {'name': None, 'choices': None}, 'dl': {'name': 'debug-landmarks', 'choices': None}, 'sp': {'name': 'singleprocess', 'choices': None}}\n",
            "=============================\n",
            "['-s,', '--skip-existing', 'Skips', 'frames', 'that', 'have', 'already', 'been', 'extracted', 'and']\n",
            "{'h': {'name': 'help', 'choices': None}, 'C': {'name': None, 'choices': None}, 'L': {'name': None, 'choices': None}, 'LF': {'name': None, 'choices': None}, 'i': {'name': None, 'choices': None}, 'o': {'name': None, 'choices': None}, 'al': {'name': None, 'choices': None}, 'D': {'name': None, 'choices': None}, 'A': {'name': None, 'choices': None}, 'M': {'name': None, 'choices': None}, 'nm': {'name': None, 'choices': None}, 'r': {'name': None, 'choices': None}, 'min': {'name': None, 'choices': None}, 'n': {'name': None, 'choices': None}, 'f': {'name': None, 'choices': None}, 'l': {'name': None, 'choices': None}, 'een': {'name': None, 'choices': None}, 'sz': {'name': None, 'choices': None}, 'si': {'name': None, 'choices': None}, 'dl': {'name': 'debug-landmarks', 'choices': None}, 'sp': {'name': 'singleprocess', 'choices': None}, 's': {'name': 'skip-existing', 'choices': None}}\n",
            "=============================\n",
            "['-sf,', '--skip-existing-faces']\n",
            "{'h': {'name': 'help', 'choices': None}, 'C': {'name': None, 'choices': None}, 'L': {'name': None, 'choices': None}, 'LF': {'name': None, 'choices': None}, 'i': {'name': None, 'choices': None}, 'o': {'name': None, 'choices': None}, 'al': {'name': None, 'choices': None}, 'D': {'name': None, 'choices': None}, 'A': {'name': None, 'choices': None}, 'M': {'name': None, 'choices': None}, 'nm': {'name': None, 'choices': None}, 'r': {'name': None, 'choices': None}, 'min': {'name': None, 'choices': None}, 'n': {'name': None, 'choices': None}, 'f': {'name': None, 'choices': None}, 'l': {'name': None, 'choices': None}, 'een': {'name': None, 'choices': None}, 'sz': {'name': None, 'choices': None}, 'si': {'name': None, 'choices': None}, 'dl': {'name': 'debug-landmarks', 'choices': None}, 'sp': {'name': 'singleprocess', 'choices': None}, 's': {'name': 'skip-existing', 'choices': None}, 'sf': {'name': 'skip-existing-faces', 'choices': None}}\n"
          ],
          "name": "stdout"
        }
      ]
    },
    {
      "cell_type": "markdown",
      "metadata": {
        "id": "o_M1CIMUr0hR",
        "colab_type": "text"
      },
      "source": [
        "# Train\n",
        "\n",
        "Train a model"
      ]
    },
    {
      "cell_type": "markdown",
      "metadata": {
        "id": "_Kp5gjPqr0_x",
        "colab_type": "text"
      },
      "source": [
        "# Convert\n",
        "Swap Faces on a trained model"
      ]
    }
  ]
}