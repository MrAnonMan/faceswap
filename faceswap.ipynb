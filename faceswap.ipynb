{
  "nbformat": 4,
  "nbformat_minor": 0,
  "metadata": {
    "colab": {
      "name": "faceswap.ipynb",
      "provenance": [],
      "collapsed_sections": [],
      "toc_visible": true,
      "include_colab_link": true
    },
    "kernelspec": {
      "name": "python3",
      "display_name": "Python 3"
    },
    "accelerator": "GPU"
  },
  "cells": [
    {
      "cell_type": "markdown",
      "metadata": {
        "id": "view-in-github",
        "colab_type": "text"
      },
      "source": [
        "<a href=\"https://colab.research.google.com/github/torzdf/faceswap/blob/colab/faceswap.ipynb\" target=\"_parent\"><img src=\"https://colab.research.google.com/assets/colab-badge.svg\" alt=\"Open In Colab\"/></a>"
      ]
    },
    {
      "cell_type": "markdown",
      "metadata": {
        "id": "me3hkgpOh_Cz",
        "colab_type": "text"
      },
      "source": [
        "<p align=\"left\">\n",
        "  <a href=\"https://faceswap.dev\"><img src=\"https://i.imgur.com/zHvjHnb.png\"></img></a>Welcome to the FaceSwap Notebook\n",
        "</p>\n",
        "\n"
      ]
    },
    {
      "cell_type": "markdown",
      "metadata": {
        "id": "XVhBIQ2nKify",
        "colab_type": "text"
      },
      "source": [
        "The FaceSwap Notebook is a means of running FaceSwap on Google Colab.\n",
        "\n",
        "Colab will give you a free GPU for up to a 12 hour period (as long as your browser window remains open).\n",
        "\n",
        "Please make sure you understand Google Colaboratory's terms of service. This notebook is for testing out Faceswap and experimenting. It is not for creating swaps on an industrial scale. [See here for more info](https://research.google.com/colaboratory/faq.html#gpu-availability).\n",
        "\n",
        "At a minimum you must run the [Prerequisites](#scrollTo=GVzyxw4xkKI7). Once complete, you can jump to the section that your require.\n",
        "\n",
        "**NB:** This notebook is provided as a courtesy. It is not a priority for the FaceSwap project so there is no guarantee that it will remain up to date and support is likely to be limited. Please be aware that this Notebook lacks some features from the full application."
      ]
    },
    {
      "cell_type": "markdown",
      "metadata": {
        "id": "nffWLywssMXh",
        "colab_type": "toc"
      },
      "source": [
        ">[Prerequisites](#scrollTo=GVzyxw4xkKI7)\n",
        "\n",
        ">>[GPU Check](#scrollTo=_jYRKp5zkYMU)\n",
        "\n",
        ">>[Link Google Drive](#scrollTo=Sb1aWvH3phjA)\n",
        "\n",
        ">>[Get FaceSwap](#scrollTo=oql-3Tf7lquV)\n",
        "\n",
        ">[Extract](#scrollTo=aWiYFqK4R64L)\n",
        "\n",
        ">[Train](#scrollTo=o_M1CIMUr0hR)\n",
        "\n",
        ">[Convert](#scrollTo=_Kp5gjPqr0_x)\n",
        "\n"
      ]
    },
    {
      "cell_type": "markdown",
      "metadata": {
        "id": "GVzyxw4xkKI7",
        "colab_type": "text"
      },
      "source": [
        "# Prerequisites\n",
        "First up we need to make sure we have a GPU instance and set up our environment.\n",
        "\n",
        "Whatever task you plan to perform, you must run these steps first."
      ]
    },
    {
      "cell_type": "markdown",
      "metadata": {
        "id": "_jYRKp5zkYMU",
        "colab_type": "text"
      },
      "source": [
        "## GPU Check\n",
        "Run the following code block to make sure you have been allocated a GPU:"
      ]
    },
    {
      "cell_type": "code",
      "metadata": {
        "id": "uC12cr74iDTz",
        "colab_type": "code",
        "cellView": "form",
        "colab": {}
      },
      "source": [
        "#@title\n",
        "!nvidia-smi"
      ],
      "execution_count": 0,
      "outputs": []
    },
    {
      "cell_type": "markdown",
      "metadata": {
        "id": "uJDVxE5ujFbH",
        "colab_type": "text"
      },
      "source": [
        " You should receive output similar to below:\n",
        "```\n",
        "+-----------------------------------------------------------------------------+\n",
        "| NVIDIA-SMI 440.36       Driver Version: 418.67       CUDA Version: 10.1     |\n",
        "|-------------------------------+----------------------+----------------------+\n",
        "| GPU  Name        Persistence-M| Bus-Id        Disp.A | Volatile Uncorr. ECC |\n",
        "| Fan  Temp  Perf  Pwr:Usage/Cap|         Memory-Usage | GPU-Util  Compute M. |\n",
        "|===============================+======================+======================|\n",
        "|   0  Tesla P100-PCIE...  Off  | 00000000:00:04.0 Off |                    0 |\n",
        "| N/A   36C    P0    26W / 250W |      0MiB / 16280MiB |      0%      Default |\n",
        "+-------------------------------+----------------------+----------------------+\n",
        "                                                                               \n",
        "+-----------------------------------------------------------------------------+\n",
        "| Processes:                                                       GPU Memory |\n",
        "|  GPU       PID   Type   Process name                             Usage      |\n",
        "|=============================================================================|\n",
        "|  No running processes found                                                 |\n",
        "+-----------------------------------------------------------------------------+\n",
        "```\n",
        "\n",
        "If you have not been allocated a GPU then select `Runtime` > `Change runtime type` from the top menu and ensure that the `Runtime type` is `Python 3` and `Hardware Acceleration` is `GPU`"
      ]
    },
    {
      "cell_type": "markdown",
      "metadata": {
        "id": "Sb1aWvH3phjA",
        "colab_type": "text"
      },
      "source": [
        "## Link Google Drive\n",
        "Now we know we have a GPU instance, we need to link your Google Drive.\n",
        "\n",
        "You will need to give Colab permissions to mount your drive, so run the code block below and follow the instructions to mount your drive:"
      ]
    },
    {
      "cell_type": "code",
      "metadata": {
        "id": "Au4XSkozmh61",
        "colab_type": "code",
        "cellView": "both",
        "colab": {}
      },
      "source": [
        "#@title\n",
        "import os\n",
        "_ROOT=\"/content/drive/My Drive/_faceswap_colab\"\n",
        "from google.colab import drive\n",
        "drive.mount('/content/drive/', force_remount=True)\n",
        "\n",
        "if not os.path.exists(_ROOT):\n",
        "  !mkdir \"$_ROOT\""
      ],
      "execution_count": 0,
      "outputs": []
    },
    {
      "cell_type": "markdown",
      "metadata": {
        "id": "oql-3Tf7lquV",
        "colab_type": "text"
      },
      "source": [
        "## Get FaceSwap\n",
        "Time to tell Colab where to find/install the FaceSwap App. Select your options in the form, then hit play:"
      ]
    },
    {
      "cell_type": "code",
      "metadata": {
        "id": "f3EcqWK8dgbO",
        "colab_type": "code",
        "cellView": "form",
        "colab": {}
      },
      "source": [
        "#@title App install location\n",
        "#@markdown Where do you want Faceswap installed?\n",
        "#@markdown * GoogleDrive: [Recommended] - Store the FaceSwap App on your Google\n",
        "#@markdown Drive. This means any config files that are changed won't get lost\n",
        "#@markdown when the instance destroys. However it will take up about 200MB of\n",
        "#@markdown space.\n",
        "#@markdown * Local: FaceSwap App will be stored in the Colab Notebook. The app\n",
        "#@markdown will disappear when the instance dies.\n",
        "location = \"GoogleDrive\"  #@param ['GoogleDrive', 'Local']\n",
        "#@markdown Do You want to update an existing app or create a new one?\n",
        "#@markdown * Update: [Recommended] - If the FaceSwap App is already installed in\n",
        "#@markdown the chosen location, it will be updated. If the app doesn't already\n",
        "#@markdown exist, it will be installed.\n",
        "#@markdown * New: Uninstall any installed FaceSwap App and Reinstall for the\n",
        "#@markdown chosen location.\n",
        "app_update = \"Update\"  #@param ['New', 'Update']\n",
        "\n",
        "import os\n",
        "import shutil\n",
        "_ROOT=\"/content/drive/My Drive/_faceswap_colab\" if location == \"GoogleDrive\" else \".\"\n",
        "_APPDIR=os.path.join(_ROOT, \"faceswap\")\n",
        "_APP=os.path.join(_APPDIR, \"faceswap.py\")\n",
        "fs_backend_path=os.path.join(_APPDIR, \"config\", \".faceswap\")\n",
        "!pip install tensorflow-gpu==1.15\n",
        "!echo -en \"\\e[33m\"\n",
        "print(\"App Location:\", _APP)\n",
        "if app_update == \"New\" or not os.path.isfile(_APP):\n",
        "  if os.path.isdir(_APPDIR):\n",
        "    print(\"Uninstalling pre-existing app...\")\n",
        "    shutil.rmtree(_APPDIR)\n",
        "  print(\"Getting Faceswap...\")\n",
        "  !echo -en \"\\e[0m\"\n",
        "  !git clone --depth 1 -b master https://github.com/deepfakes/faceswap.git \"$_APPDIR\"\n",
        "  %cd \"$_APPDIR\"\n",
        "  !echo -en \"\\e[33m\"\n",
        "  print(\"Installing Dependencies. This may take a minute or two...\")\n",
        "  !echo -en \"\\e[0m\"\n",
        "  !pip install -r \"$_APPDIR/requirements.txt\"\n",
        "  !echo -en \"\\e[33m\"\n",
        "  print(\"Setting backend to nvidia:\", fs_backend_path)\n",
        "  with open(fs_backend_path, \"w\") as backend_config:\n",
        "    backend_config.write(\"{\\\"backend\\\": \\\"nvidia\\\"}\")\n",
        "else:\n",
        "  !echo -en \"\\e[33m\"\n",
        "  print(\"Updating Dependencies. This may take a minute or two...\")\n",
        "  !echo -en \"\\e[0m\"\n",
        "  %cd \"$_APPDIR\"\n",
        "  !git pull 2>&1\n",
        "  !echo -en \"\\e[33m\"\n",
        "  print(\"Setting backend to nvidia:\", fs_backend_path)\n",
        "  !echo -en \"\\e[0m\"\n",
        "  with open(fs_backend_path, \"w\") as backend_config:\n",
        "    backend_config.write(\"{\\\"backend\\\": \\\"nvidia\\\"}\")\n",
        "  !python \"$_APPDIR/update_deps.py\"\n",
        "\n",
        "!echo -en \"\\e[0m\"\n",
        "\n"
      ],
      "execution_count": 0,
      "outputs": []
    },
    {
      "cell_type": "markdown",
      "metadata": {
        "id": "QwOvPLJsrIbO",
        "colab_type": "text"
      },
      "source": [
        "We're good to go! Now decide if you want to [Extract](#scrollTo=aWiYFqK4R64L), [Train](#scrollTo=o_M1CIMUr0hR) or [Convert](#scrollTo=_Kp5gjPqr0_x)\n"
      ]
    },
    {
      "cell_type": "code",
      "metadata": {
        "id": "PfiiqP7fHWDM",
        "colab_type": "code",
        "colab": {}
      },
      "source": [
        "def get_cliopts(section):\n",
        "  \"\"\" obtain the cli options for the given section \"\"\"\n",
        "  cliopts=!python \"$_APP\" \"$section\" - h\n",
        "  current_opt = dict()\n",
        "  opts = dict()\n",
        "\n",
        "  for line in cliopts:\n",
        "    name = None\n",
        "    choices = None\n",
        "    line = line.strip()\n",
        "    if line.startswith(\"-\") and \"--\" in line:\n",
        "      if current_opt:\n",
        "        opts[current_opt[\"opt\"]] = {k: v for k, v in current_opt.items() if k != \"opt\"}\n",
        "        current_opt = dict()\n",
        "      line_opts = line.split()\n",
        "      name = [val for val in line_opts if val.startswith(\"--\")][0].replace(\"--\", \"\")\n",
        "      if name in (\"help\", \"loglevel\", \"logfile\"):\n",
        "        continue\n",
        "      else:\n",
        "        opt = line_opts[0][1:].replace(\",\", \"\")\n",
        "        choices = [val for val in line_opts if val.startswith(\"{\") and val.endswith(\"}\")]\n",
        "        if choices:\n",
        "          choices = choices[0].replace(\"{\", \"\").replace(\"}\", \"\")\n",
        "          choices = [choice for choice in choices.split(\",\")]\n",
        "        else:\n",
        "          choices = None\n",
        "        current_opt =dict(opt=opt, name=name, choices=choices, help=\"\")\n",
        "    elif not current_opt:\n",
        "      continue\n",
        "    else:\n",
        "      current_opt[\"help\"] += \"{} \".format(line)\n",
        "  return opts\n"
      ],
      "execution_count": 0,
      "outputs": []
    },
    {
      "cell_type": "markdown",
      "metadata": {
        "id": "aWiYFqK4R64L",
        "colab_type": "text"
      },
      "source": [
        "# Extract\n",
        "\n",
        "Extract faces from a video or a folder of images"
      ]
    },
    {
      "cell_type": "code",
      "metadata": {
        "id": "I1_QxoSvtAzE",
        "colab_type": "code",
        "colab": {}
      },
      "source": [
        "opts = get_cliopts(\"extract\")\n",
        "print(opts)"
      ],
      "execution_count": 0,
      "outputs": []
    },
    {
      "cell_type": "markdown",
      "metadata": {
        "id": "o_M1CIMUr0hR",
        "colab_type": "text"
      },
      "source": [
        "# Train\n",
        "\n",
        "Train a model"
      ]
    },
    {
      "cell_type": "markdown",
      "metadata": {
        "id": "_Kp5gjPqr0_x",
        "colab_type": "text"
      },
      "source": [
        "# Convert\n",
        "Swap Faces on a trained model"
      ]
    }
  ]
}