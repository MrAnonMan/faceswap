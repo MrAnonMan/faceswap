{
  "nbformat": 4,
  "nbformat_minor": 0,
  "metadata": {
    "colab": {
      "name": "Copy of faceswap.ipynb",
      "provenance": [],
      "toc_visible": true,
      "include_colab_link": true
    },
    "kernelspec": {
      "name": "python3",
      "display_name": "Python 3"
    },
    "accelerator": "GPU"
  },
  "cells": [
    {
      "cell_type": "markdown",
      "metadata": {
        "id": "view-in-github",
        "colab_type": "text"
      },
      "source": [
        "<a href=\"https://colab.research.google.com/github/torzdf/faceswap/blob/colab/faceswap.ipynb\" target=\"_parent\"><img src=\"https://colab.research.google.com/assets/colab-badge.svg\" alt=\"Open In Colab\"/></a>"
      ]
    },
    {
      "cell_type": "markdown",
      "metadata": {
        "id": "me3hkgpOh_Cz",
        "colab_type": "text"
      },
      "source": [
        "<p align=\"left\">\n",
        "  <a href=\"https://faceswap.dev\"><img src=\"https://i.imgur.com/zHvjHnb.png\"></img></a>Welcome to the FaceSwap Notebook\n",
        "</p>\n",
        "\n"
      ]
    },
    {
      "cell_type": "markdown",
      "metadata": {
        "id": "XVhBIQ2nKify",
        "colab_type": "text"
      },
      "source": [
        "The FaceSwap Notebook is a means of running FaceSwap on Google Colab.\n",
        "\n",
        "Colab will give you a free GPU for up to a 12 hour period (as long as your browser window remains open).\n",
        "\n",
        "Please make sure you understand Google Colaboratory's terms of service. This notebook is for testing out Faceswap and experimenting. It is not for creating swaps on an industrial scale.\n",
        "\n",
        "At a minimum you must run the [Prerequisites](#scrollTo=GVzyxw4xkKI7). Once complete, you can jump to the section that your require.\n",
        "\n",
        "**NB:** This notebook is provided as a courtesy. It is not a priority for the FaceSwap project so there is no guarantee that it will remain up to date and support is likely to be limited. Please be aware that this Notebook lacks some features from the full application."
      ]
    },
    {
      "cell_type": "markdown",
      "metadata": {
        "id": "nffWLywssMXh",
        "colab_type": "toc"
      },
      "source": [
        ">[Prerequisites](#scrollTo=GVzyxw4xkKI7)\n",
        "\n",
        ">>[GPU Check](#scrollTo=_jYRKp5zkYMU)\n",
        "\n",
        ">>[Get FaceSwap](#scrollTo=oql-3Tf7lquV)\n",
        "\n",
        ">>[Link Google Drive](#scrollTo=Sb1aWvH3phjA)\n",
        "\n",
        ">[Extract](#scrollTo=aWiYFqK4R64L)\n",
        "\n"
      ]
    },
    {
      "cell_type": "markdown",
      "metadata": {
        "id": "GVzyxw4xkKI7",
        "colab_type": "text"
      },
      "source": [
        "# Prerequisites\n",
        "First up we need to make sure we have a GPU instance and set up our environment.\n",
        "\n",
        "Whatever task you plan to perform, you should run these steps first."
      ]
    },
    {
      "cell_type": "markdown",
      "metadata": {
        "id": "_jYRKp5zkYMU",
        "colab_type": "text"
      },
      "source": [
        "## GPU Check\n",
        "Run the following code block to make sure you have been allocated a GPU:"
      ]
    },
    {
      "cell_type": "code",
      "metadata": {
        "id": "uC12cr74iDTz",
        "colab_type": "code",
        "colab": {}
      },
      "source": [
        "!nvidia-smi"
      ],
      "execution_count": 0,
      "outputs": []
    },
    {
      "cell_type": "markdown",
      "metadata": {
        "id": "uJDVxE5ujFbH",
        "colab_type": "text"
      },
      "source": [
        " You should receive output similar to below:\n",
        "```\n",
        "+-----------------------------------------------------------------------------+\n",
        "| NVIDIA-SMI 440.36       Driver Version: 418.67       CUDA Version: 10.1     |\n",
        "|-------------------------------+----------------------+----------------------+\n",
        "| GPU  Name        Persistence-M| Bus-Id        Disp.A | Volatile Uncorr. ECC |\n",
        "| Fan  Temp  Perf  Pwr:Usage/Cap|         Memory-Usage | GPU-Util  Compute M. |\n",
        "|===============================+======================+======================|\n",
        "|   0  Tesla P100-PCIE...  Off  | 00000000:00:04.0 Off |                    0 |\n",
        "| N/A   36C    P0    26W / 250W |      0MiB / 16280MiB |      0%      Default |\n",
        "+-------------------------------+----------------------+----------------------+\n",
        "                                                                               \n",
        "+-----------------------------------------------------------------------------+\n",
        "| Processes:                                                       GPU Memory |\n",
        "|  GPU       PID   Type   Process name                             Usage      |\n",
        "|=============================================================================|\n",
        "|  No running processes found                                                 |\n",
        "+-----------------------------------------------------------------------------+\n",
        "```\n",
        "\n",
        "If you have not been allocated a GPU then select `Runtime` > `Change runtime type` from the top menu and ensure that the `Runtime type` is `Python 3` and `Hardware Acceleration` is `GPU`"
      ]
    },
    {
      "cell_type": "markdown",
      "metadata": {
        "id": "Sb1aWvH3phjA",
        "colab_type": "text"
      },
      "source": [
        "## Link Google Drive\n",
        "Now we need to link your Google Drive. You will need to give Colab permissions to mount your drive, so run the code block below and follow the instructions to mount your drive:"
      ]
    },
    {
      "cell_type": "code",
      "metadata": {
        "id": "Au4XSkozmh61",
        "colab_type": "code",
        "colab": {
          "base_uri": "https://localhost:8080/",
          "height": 35
        },
        "outputId": "41baf127-0e35-47ca-d55b-c8b57456da1b"
      },
      "source": [
        "import os\n",
        "_ROOT=\"/content/drive/My Drive/_faceswap_colab\"\n",
        "from google.colab import drive\n",
        "drive.mount('/content/drive/', force_remount=True)\n",
        "\n",
        "if not os.path.exists(_ROOT):\n",
        "  !mkdir \"$_ROOT\""
      ],
      "execution_count": 1,
      "outputs": [
        {
          "output_type": "stream",
          "text": [
            "Mounted at /content/drive/\n"
          ],
          "name": "stdout"
        }
      ]
    },
    {
      "cell_type": "markdown",
      "metadata": {
        "id": "oql-3Tf7lquV",
        "colab_type": "text"
      },
      "source": [
        "## Get FaceSwap\n",
        "Now we know we have a GPU instance, let's grab the faceswap codebase and setup our environment by running the following code block:"
      ]
    },
    {
      "cell_type": "code",
      "metadata": {
        "id": "f3EcqWK8dgbO",
        "colab_type": "code",
        "colab": {}
      },
      "source": [
        "#@title App install location\n",
        "#@markdown Where do you want Faceswap installed?\n",
        "#@markdown * GoogleDrive: [Recommended] - Store the FaceSwap App on your Google\n",
        "#@markdown Drive. This means any config files that are changed won't get lost\n",
        "#@markdown when the instance destroys. However it will take up about 200MB of\n",
        "#@markdown space.\n",
        "#@markdown * Local: FaceSwap App will be stored in the Colab Notebook. The app\n",
        "#@markdown will disappear when the instance dies.\n",
        "location = \"GoogleDrive\"  #@param ['GoogleDrive', 'Local']\n",
        "#@markdown Do You want to update an existing app or create a new one?\n",
        "#@markdown * Update: [Recommended] - If the FaceSwap App is already installed in\n",
        "#@markdown the chosen location, it will be updated. If the app doesn't already\n",
        "#@markdown exist, it will be installed.\n",
        "#@markdown * New: Uninstall any installed FaceSwap App and Reinstall for the\n",
        "#@markdown chosen location.\n",
        "app_update = \"Update\"  #@param ['New', 'Update']\n"
      ],
      "execution_count": 0,
      "outputs": []
    },
    {
      "cell_type": "code",
      "metadata": {
        "id": "iHFdBJoul9Cn",
        "colab_type": "code",
        "colab": {
          "base_uri": "https://localhost:8080/",
          "height": 1000
        },
        "outputId": "2baced31-1be1-4706-c41f-00cf39922700"
      },
      "source": [
        "import os\n",
        "if location\n",
        "_ROOT=\"/content/drive/My Drive/_faceswap_colab\" if location == \"GoogleDrive\" else \".\"\n",
        "_APPDIR=os.path.join(_ROOT, \"faceswap\")\n",
        "_APP=os.path.join(_APPDIR, \"faceswap.py\")\n",
        "print(_APPDIR)\n",
        "!echo $_APP\n",
        "if app_update == \"New\" or not os.path.isfile(_APP):\n",
        "  !rm -rf \"$_APPDIR\"\n",
        "  !git clone --depth 1 -b master https://github.com/deepfakes/faceswap.git \"$_APPDIR\"\n",
        "  !pip install -r \"$_APPDIR/requirements.txt\"\n",
        "  !pip install tensorflow-gpu==1.15\n",
        "  !echo \"{\\\"backend\\\": \\\"nvidia\\\"}\" >> \"$_APPDIR/config/.faceswap\"\n",
        "  !python \"$_APP\" -h 2>&1 > /dev/null\n",
        "else:\n",
        "  !cd \"%_APPDIR\"\n",
        "  !git pull\n",
        "  !python \"$_APPDIR/update_deps.py\"\n"
      ],
      "execution_count": 1,
      "outputs": [
        {
          "output_type": "stream",
          "text": [
            "/content/drive/My Drive/_faceswap_colab/faceswap\n",
            "/content/drive/My Drive/_faceswap_colab/faceswap\n",
            "/content/drive/My Drive/_faceswap_colab/faceswap/faceswap.py\n",
            "/content/drive/My Drive/_faceswap_colab/faceswap/faceswap.py\n",
            "Cloning into '/content/drive/My Drive/_faceswap_colab/faceswap'...\n",
            "remote: Enumerating objects: 261, done.\u001b[K\n",
            "remote: Counting objects: 100% (261/261), done.\u001b[K\n",
            "remote: Compressing objects: 100% (232/232), done.\u001b[K\n",
            "remote: Total 261 (delta 56), reused 91 (delta 22), pack-reused 0\u001b[K\n",
            "Receiving objects: 100% (261/261), 634.48 KiB | 2.00 MiB/s, done.\n",
            "Resolving deltas: 100% (56/56), done.\n",
            "Checking out files: 100% (251/251), done.\n",
            "Ignoring pywin32: markers 'sys_platform == \"win32\"' don't match your environment\n",
            "Ignoring pynvx: markers 'sys_platform == \"darwin\"' don't match your environment\n",
            "Collecting git+https://github.com/deepfakes/nvidia-ml-py3.git (from -r /content/drive/My Drive/_faceswap_colab/faceswap/requirements.txt (line 16))\n",
            "  Cloning https://github.com/deepfakes/nvidia-ml-py3.git to /tmp/pip-req-build-t6sjyau2\n",
            "  Running command git clone -q https://github.com/deepfakes/nvidia-ml-py3.git /tmp/pip-req-build-t6sjyau2\n",
            "Requirement already satisfied: tqdm in /usr/local/lib/python3.6/dist-packages (from -r /content/drive/My Drive/_faceswap_colab/faceswap/requirements.txt (line 1)) (4.28.1)\n",
            "Requirement already satisfied: psutil in /usr/local/lib/python3.6/dist-packages (from -r /content/drive/My Drive/_faceswap_colab/faceswap/requirements.txt (line 2)) (5.4.8)\n",
            "Requirement already satisfied: pathlib in /usr/local/lib/python3.6/dist-packages (from -r /content/drive/My Drive/_faceswap_colab/faceswap/requirements.txt (line 3)) (1.0.1)\n",
            "Requirement already satisfied: numpy==1.17.4 in /usr/local/lib/python3.6/dist-packages (from -r /content/drive/My Drive/_faceswap_colab/faceswap/requirements.txt (line 4)) (1.17.4)\n",
            "Requirement already satisfied: opencv-python==4.1.2.30 in /usr/local/lib/python3.6/dist-packages (from -r /content/drive/My Drive/_faceswap_colab/faceswap/requirements.txt (line 5)) (4.1.2.30)\n",
            "Requirement already satisfied: scikit-image in /usr/local/lib/python3.6/dist-packages (from -r /content/drive/My Drive/_faceswap_colab/faceswap/requirements.txt (line 6)) (0.15.0)\n",
            "Collecting Pillow==6.2.1\n",
            "\u001b[?25l  Downloading https://files.pythonhosted.org/packages/10/5c/0e94e689de2476c4c5e644a3bd223a1c1b9e2bdb7c510191750be74fa786/Pillow-6.2.1-cp36-cp36m-manylinux1_x86_64.whl (2.1MB)\n",
            "\u001b[K     |████████████████████████████████| 2.1MB 6.1MB/s \n",
            "\u001b[?25hRequirement already satisfied: scikit-learn in /usr/local/lib/python3.6/dist-packages (from -r /content/drive/My Drive/_faceswap_colab/faceswap/requirements.txt (line 8)) (0.21.3)\n",
            "Collecting toposort\n",
            "  Downloading https://files.pythonhosted.org/packages/e9/8a/321cd8ea5f4a22a06e3ba30ef31ec33bea11a3443eeb1d89807640ee6ed4/toposort-1.5-py2.py3-none-any.whl\n",
            "Collecting fastcluster\n",
            "\u001b[?25l  Downloading https://files.pythonhosted.org/packages/77/fc/19660c0d866840b65032df2263b4a04ad3e4ab9aaaf2a2d07fdbf990ffb1/fastcluster-1.1.25-cp36-cp36m-manylinux1_x86_64.whl (153kB)\n",
            "\u001b[K     |████████████████████████████████| 153kB 52.4MB/s \n",
            "\u001b[?25hCollecting matplotlib==3.1.1\n",
            "\u001b[?25l  Downloading https://files.pythonhosted.org/packages/57/4f/dd381ecf6c6ab9bcdaa8ea912e866dedc6e696756156d8ecc087e20817e2/matplotlib-3.1.1-cp36-cp36m-manylinux1_x86_64.whl (13.1MB)\n",
            "\u001b[K     |████████████████████████████████| 13.1MB 49.7MB/s \n",
            "\u001b[?25hCollecting imageio==2.6.1\n",
            "\u001b[?25l  Downloading https://files.pythonhosted.org/packages/1a/de/f7f985018f462ceeffada7f6e609919fbcc934acd9301929cba14bc2c24a/imageio-2.6.1-py3-none-any.whl (3.3MB)\n",
            "\u001b[K     |████████████████████████████████| 3.3MB 48.7MB/s \n",
            "\u001b[?25hCollecting imageio-ffmpeg\n",
            "\u001b[?25l  Downloading https://files.pythonhosted.org/packages/1b/12/01126a2fb737b23461d7dadad3b8abd51ad6210f979ff05c6fa9812dfbbe/imageio_ffmpeg-0.3.0-py3-none-manylinux2010_x86_64.whl (22.2MB)\n",
            "\u001b[K     |████████████████████████████████| 22.2MB 402kB/s \n",
            "\u001b[?25hCollecting ffmpy==0.2.2\n",
            "  Downloading https://files.pythonhosted.org/packages/18/e6/4309f4c02d38aef16236650766f78e949c1b8170f5d63cc4b3be7148565f/ffmpy-0.2.2.tar.gz\n",
            "Collecting h5py==2.9.0\n",
            "\u001b[?25l  Downloading https://files.pythonhosted.org/packages/30/99/d7d4fbf2d02bb30fb76179911a250074b55b852d34e98dd452a9f394ac06/h5py-2.9.0-cp36-cp36m-manylinux1_x86_64.whl (2.8MB)\n",
            "\u001b[K     |████████████████████████████████| 2.8MB 40.5MB/s \n",
            "\u001b[?25hCollecting Keras==2.2.4\n",
            "\u001b[?25l  Downloading https://files.pythonhosted.org/packages/5e/10/aa32dad071ce52b5502266b5c659451cfd6ffcbf14e6c8c4f16c0ff5aaab/Keras-2.2.4-py2.py3-none-any.whl (312kB)\n",
            "\u001b[K     |████████████████████████████████| 317kB 39.2MB/s \n",
            "\u001b[?25hRequirement already satisfied: PyWavelets>=0.4.0 in /usr/local/lib/python3.6/dist-packages (from scikit-image->-r /content/drive/My Drive/_faceswap_colab/faceswap/requirements.txt (line 6)) (1.1.1)\n",
            "Requirement already satisfied: networkx>=2.0 in /usr/local/lib/python3.6/dist-packages (from scikit-image->-r /content/drive/My Drive/_faceswap_colab/faceswap/requirements.txt (line 6)) (2.4)\n",
            "Requirement already satisfied: scipy>=0.17.0 in /usr/local/lib/python3.6/dist-packages (from scikit-image->-r /content/drive/My Drive/_faceswap_colab/faceswap/requirements.txt (line 6)) (1.3.3)\n",
            "Requirement already satisfied: joblib>=0.11 in /usr/local/lib/python3.6/dist-packages (from scikit-learn->-r /content/drive/My Drive/_faceswap_colab/faceswap/requirements.txt (line 8)) (0.14.0)\n",
            "Requirement already satisfied: python-dateutil>=2.1 in /usr/local/lib/python3.6/dist-packages (from matplotlib==3.1.1->-r /content/drive/My Drive/_faceswap_colab/faceswap/requirements.txt (line 11)) (2.6.1)\n",
            "Requirement already satisfied: pyparsing!=2.0.4,!=2.1.2,!=2.1.6,>=2.0.1 in /usr/local/lib/python3.6/dist-packages (from matplotlib==3.1.1->-r /content/drive/My Drive/_faceswap_colab/faceswap/requirements.txt (line 11)) (2.4.5)\n",
            "Requirement already satisfied: cycler>=0.10 in /usr/local/lib/python3.6/dist-packages (from matplotlib==3.1.1->-r /content/drive/My Drive/_faceswap_colab/faceswap/requirements.txt (line 11)) (0.10.0)\n",
            "Requirement already satisfied: kiwisolver>=1.0.1 in /usr/local/lib/python3.6/dist-packages (from matplotlib==3.1.1->-r /content/drive/My Drive/_faceswap_colab/faceswap/requirements.txt (line 11)) (1.1.0)\n",
            "Requirement already satisfied: six in /usr/local/lib/python3.6/dist-packages (from h5py==2.9.0->-r /content/drive/My Drive/_faceswap_colab/faceswap/requirements.txt (line 18)) (1.12.0)\n",
            "Requirement already satisfied: keras-preprocessing>=1.0.5 in /usr/local/lib/python3.6/dist-packages (from Keras==2.2.4->-r /content/drive/My Drive/_faceswap_colab/faceswap/requirements.txt (line 19)) (1.1.0)\n",
            "Requirement already satisfied: keras-applications>=1.0.6 in /usr/local/lib/python3.6/dist-packages (from Keras==2.2.4->-r /content/drive/My Drive/_faceswap_colab/faceswap/requirements.txt (line 19)) (1.0.8)\n",
            "Requirement already satisfied: pyyaml in /usr/local/lib/python3.6/dist-packages (from Keras==2.2.4->-r /content/drive/My Drive/_faceswap_colab/faceswap/requirements.txt (line 19)) (3.13)\n",
            "Requirement already satisfied: decorator>=4.3.0 in /usr/local/lib/python3.6/dist-packages (from networkx>=2.0->scikit-image->-r /content/drive/My Drive/_faceswap_colab/faceswap/requirements.txt (line 6)) (4.4.1)\n",
            "Requirement already satisfied: setuptools in /usr/local/lib/python3.6/dist-packages (from kiwisolver>=1.0.1->matplotlib==3.1.1->-r /content/drive/My Drive/_faceswap_colab/faceswap/requirements.txt (line 11)) (42.0.2)\n",
            "Building wheels for collected packages: ffmpy, nvidia-ml-py3\n",
            "  Building wheel for ffmpy (setup.py) ... \u001b[?25l\u001b[?25hdone\n",
            "  Created wheel for ffmpy: filename=ffmpy-0.2.2-cp36-none-any.whl size=4601 sha256=23a559feaab0b2f2c2ceeb68dbafb031deb39f8f007dbafcc1d1119842f518a9\n",
            "  Stored in directory: /root/.cache/pip/wheels/16/28/57/96aff0d874198125b03f542d854e7ebdc61a56b09a4d49de6a\n",
            "  Building wheel for nvidia-ml-py3 (setup.py) ... \u001b[?25l\u001b[?25hdone\n",
            "  Created wheel for nvidia-ml-py3: filename=nvidia_ml_py3-7.352.1-cp36-none-any.whl size=19268 sha256=fb7935e9fa7637acf9861fa0159db127eaf723e58dc6a730fe84a1e4b8c4bce7\n",
            "  Stored in directory: /tmp/pip-ephem-wheel-cache-z4tl9zbu/wheels/68/a1/dd/fc48b42f331cd35e0dc0d6d75804a6b21839f30b095c43ffc8\n",
            "Successfully built ffmpy nvidia-ml-py3\n",
            "\u001b[31mERROR: albumentations 0.1.12 has requirement imgaug<0.2.7,>=0.2.5, but you'll have imgaug 0.2.9 which is incompatible.\u001b[0m\n",
            "Installing collected packages: Pillow, toposort, fastcluster, matplotlib, imageio, imageio-ffmpeg, ffmpy, h5py, Keras, nvidia-ml-py3\n",
            "  Found existing installation: Pillow 4.3.0\n",
            "    Uninstalling Pillow-4.3.0:\n",
            "      Successfully uninstalled Pillow-4.3.0\n",
            "  Found existing installation: matplotlib 3.1.2\n",
            "    Uninstalling matplotlib-3.1.2:\n",
            "      Successfully uninstalled matplotlib-3.1.2\n",
            "  Found existing installation: imageio 2.4.1\n",
            "    Uninstalling imageio-2.4.1:\n",
            "      Successfully uninstalled imageio-2.4.1\n",
            "  Found existing installation: h5py 2.8.0\n",
            "    Uninstalling h5py-2.8.0:\n",
            "      Successfully uninstalled h5py-2.8.0\n",
            "  Found existing installation: Keras 2.2.5\n",
            "    Uninstalling Keras-2.2.5:\n",
            "      Successfully uninstalled Keras-2.2.5\n",
            "  Found existing installation: nvidia-ml-py3 7.352.0\n",
            "    Uninstalling nvidia-ml-py3-7.352.0:\n",
            "      Successfully uninstalled nvidia-ml-py3-7.352.0\n",
            "Successfully installed Keras-2.2.4 Pillow-6.2.1 fastcluster-1.1.25 ffmpy-0.2.2 h5py-2.9.0 imageio-2.6.1 imageio-ffmpeg-0.3.0 matplotlib-3.1.1 nvidia-ml-py3-7.352.1 toposort-1.5\n"
          ],
          "name": "stdout"
        },
        {
          "output_type": "display_data",
          "data": {
            "application/vnd.colab-display-data+json": {
              "pip_warning": {
                "packages": [
                  "PIL",
                  "matplotlib",
                  "mpl_toolkits"
                ]
              }
            }
          },
          "metadata": {
            "tags": []
          }
        },
        {
          "output_type": "stream",
          "text": [
            "Collecting tensorflow-gpu==1.15\n",
            "\u001b[?25l  Downloading https://files.pythonhosted.org/packages/a5/ad/933140e74973fb917a194ab814785e7c23680ca5dee6d663a509fe9579b6/tensorflow_gpu-1.15.0-cp36-cp36m-manylinux2010_x86_64.whl (411.5MB)\n",
            "\u001b[K     |████████████████████████████████| 411.5MB 40kB/s \n",
            "\u001b[?25hRequirement already satisfied: termcolor>=1.1.0 in /usr/local/lib/python3.6/dist-packages (from tensorflow-gpu==1.15) (1.1.0)\n",
            "Requirement already satisfied: astor>=0.6.0 in /usr/local/lib/python3.6/dist-packages (from tensorflow-gpu==1.15) (0.8.0)\n",
            "Requirement already satisfied: keras-applications>=1.0.8 in /usr/local/lib/python3.6/dist-packages (from tensorflow-gpu==1.15) (1.0.8)\n",
            "Requirement already satisfied: google-pasta>=0.1.6 in /usr/local/lib/python3.6/dist-packages (from tensorflow-gpu==1.15) (0.1.8)\n",
            "Requirement already satisfied: protobuf>=3.6.1 in /usr/local/lib/python3.6/dist-packages (from tensorflow-gpu==1.15) (3.10.0)\n",
            "Requirement already satisfied: tensorflow-estimator==1.15.1 in /usr/local/lib/python3.6/dist-packages (from tensorflow-gpu==1.15) (1.15.1)\n",
            "Requirement already satisfied: numpy<2.0,>=1.16.0 in /usr/local/lib/python3.6/dist-packages (from tensorflow-gpu==1.15) (1.17.4)\n",
            "Requirement already satisfied: wheel>=0.26 in /usr/local/lib/python3.6/dist-packages (from tensorflow-gpu==1.15) (0.33.6)\n",
            "Requirement already satisfied: keras-preprocessing>=1.0.5 in /usr/local/lib/python3.6/dist-packages (from tensorflow-gpu==1.15) (1.1.0)\n",
            "Requirement already satisfied: absl-py>=0.7.0 in /usr/local/lib/python3.6/dist-packages (from tensorflow-gpu==1.15) (0.8.1)\n",
            "Requirement already satisfied: gast==0.2.2 in /usr/local/lib/python3.6/dist-packages (from tensorflow-gpu==1.15) (0.2.2)\n",
            "Requirement already satisfied: grpcio>=1.8.6 in /usr/local/lib/python3.6/dist-packages (from tensorflow-gpu==1.15) (1.15.0)\n",
            "Requirement already satisfied: tensorboard<1.16.0,>=1.15.0 in /usr/local/lib/python3.6/dist-packages (from tensorflow-gpu==1.15) (1.15.0)\n",
            "Requirement already satisfied: six>=1.10.0 in /usr/local/lib/python3.6/dist-packages (from tensorflow-gpu==1.15) (1.12.0)\n",
            "Requirement already satisfied: opt-einsum>=2.3.2 in /usr/local/lib/python3.6/dist-packages (from tensorflow-gpu==1.15) (3.1.0)\n",
            "Requirement already satisfied: wrapt>=1.11.1 in /usr/local/lib/python3.6/dist-packages (from tensorflow-gpu==1.15) (1.11.2)\n",
            "Requirement already satisfied: h5py in /usr/local/lib/python3.6/dist-packages (from keras-applications>=1.0.8->tensorflow-gpu==1.15) (2.9.0)\n",
            "Requirement already satisfied: setuptools in /usr/local/lib/python3.6/dist-packages (from protobuf>=3.6.1->tensorflow-gpu==1.15) (42.0.2)\n",
            "Requirement already satisfied: markdown>=2.6.8 in /usr/local/lib/python3.6/dist-packages (from tensorboard<1.16.0,>=1.15.0->tensorflow-gpu==1.15) (3.1.1)\n",
            "Requirement already satisfied: werkzeug>=0.11.15 in /usr/local/lib/python3.6/dist-packages (from tensorboard<1.16.0,>=1.15.0->tensorflow-gpu==1.15) (0.16.0)\n",
            "Installing collected packages: tensorflow-gpu\n",
            "Successfully installed tensorflow-gpu-1.15.0\n",
            "/bin/bash: ./faceswap/config/.faceswap: No such file or directory\n",
            "Traceback (most recent call last):\n",
            "  File \"/content/drive/My Drive/_faceswap_colab/faceswap/faceswap.py\", line 5, in <module>\n",
            "    import lib.cli as cli\n",
            "  File \"/content/drive/My Drive/_faceswap_colab/faceswap/lib/cli.py\", line 18, in <module>\n",
            "    from lib.utils import FaceswapError, get_backend, safe_shutdown, set_system_verbosity\n",
            "  File \"/content/drive/My Drive/_faceswap_colab/faceswap/lib/utils.py\", line 82, in <module>\n",
            "    _FS_BACKEND = Backend().backend\n",
            "  File \"/content/drive/My Drive/_faceswap_colab/faceswap/lib/utils.py\", line 33, in __init__\n",
            "    self.backend = self.get_backend()\n",
            "  File \"/content/drive/My Drive/_faceswap_colab/faceswap/lib/utils.py\", line 48, in get_backend\n",
            "    self.configure_backend()\n",
            "  File \"/content/drive/My Drive/_faceswap_colab/faceswap/lib/utils.py\", line 69, in configure_backend\n",
            "    selection = input(\"1: AMD, 2: CPU, 3: NVIDIA: \")\n",
            "KeyboardInterrupt\n"
          ],
          "name": "stdout"
        }
      ]
    },
    {
      "cell_type": "markdown",
      "metadata": {
        "id": "aWiYFqK4R64L",
        "colab_type": "text"
      },
      "source": [
        "# Extract\n",
        "\n",
        "Extract faces from a video or a folder of images"
      ]
    }
  ]
}