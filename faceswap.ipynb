{
  "nbformat": 4,
  "nbformat_minor": 0,
  "metadata": {
    "colab": {
      "name": "faceswap.ipynb",
      "provenance": [],
      "toc_visible": true,
      "include_colab_link": true
    },
    "kernelspec": {
      "name": "python3",
      "display_name": "Python 3"
    },
    "accelerator": "GPU"
  },
  "cells": [
    {
      "cell_type": "markdown",
      "metadata": {
        "id": "view-in-github",
        "colab_type": "text"
      },
      "source": [
        "<a href=\"https://colab.research.google.com/github/torzdf/faceswap/blob/colab/faceswap.ipynb\" target=\"_parent\"><img src=\"https://colab.research.google.com/assets/colab-badge.svg\" alt=\"Open In Colab\"/></a>"
      ]
    },
    {
      "cell_type": "markdown",
      "metadata": {
        "id": "me3hkgpOh_Cz",
        "colab_type": "text"
      },
      "source": [
        "<p align=\"left\">\n",
        "  <a href=\"https://faceswap.dev\"><img src=\"https://i.imgur.com/zHvjHnb.png\"></img></a>Welcome to the FaceSwap Notebook\n",
        "</p>\n",
        "\n"
      ]
    },
    {
      "cell_type": "markdown",
      "metadata": {
        "id": "XVhBIQ2nKify",
        "colab_type": "text"
      },
      "source": [
        "The FaceSwap Notebook is a means of running FaceSwap on Google Colab.\n",
        "\n",
        "Colab will give you a free GPU for up to a 12 hour period (as long as your browser window remains open).\n",
        "\n",
        "Please make sure you understand Google Colaboratory's terms of service. This notebook is for testing out Faceswap and experimenting. It is not for creating swaps on an industrial scale.\n",
        "\n",
        "At a minimum you must run the [Prerequisites](#scrollTo=GVzyxw4xkKI7). Once complete, you can jump to the section that your require.\n",
        "\n",
        "**NB:** This notebook is provided as a courtesy. It is not a priority for the FaceSwap project so there is no guarantee that it will remain up to date and support is likely to be limited. Please be aware that this Notebook lacks some features from the full application."
      ]
    },
    {
      "cell_type": "markdown",
      "metadata": {
        "id": "nffWLywssMXh",
        "colab_type": "toc"
      },
      "source": [
        ">[Prerequisites](#scrollTo=GVzyxw4xkKI7)\n",
        "\n",
        ">>[GPU Check](#scrollTo=_jYRKp5zkYMU)\n",
        "\n",
        ">>[Get FaceSwap](#scrollTo=oql-3Tf7lquV)\n",
        "\n",
        ">>[Link Google Drive](#scrollTo=Sb1aWvH3phjA)\n",
        "\n",
        ">[Extract](#scrollTo=aWiYFqK4R64L)\n",
        "\n"
      ]
    },
    {
      "cell_type": "markdown",
      "metadata": {
        "id": "GVzyxw4xkKI7",
        "colab_type": "text"
      },
      "source": [
        "# Prerequisites\n",
        "First up we need to make sure we have a GPU instance and set up our environment.\n",
        "\n",
        "Whatever task you plan to perform, you should run these steps first."
      ]
    },
    {
      "cell_type": "markdown",
      "metadata": {
        "id": "_jYRKp5zkYMU",
        "colab_type": "text"
      },
      "source": [
        "## GPU Check\n",
        "Run the following code block to make sure you have been allocated a GPU:"
      ]
    },
    {
      "cell_type": "code",
      "metadata": {
        "id": "uC12cr74iDTz",
        "colab_type": "code",
        "colab": {}
      },
      "source": [
        "!nvidia-smi"
      ],
      "execution_count": 0,
      "outputs": []
    },
    {
      "cell_type": "markdown",
      "metadata": {
        "id": "uJDVxE5ujFbH",
        "colab_type": "text"
      },
      "source": [
        " You should receive output similar to below:\n",
        "```\n",
        "+-----------------------------------------------------------------------------+\n",
        "| NVIDIA-SMI 440.36       Driver Version: 418.67       CUDA Version: 10.1     |\n",
        "|-------------------------------+----------------------+----------------------+\n",
        "| GPU  Name        Persistence-M| Bus-Id        Disp.A | Volatile Uncorr. ECC |\n",
        "| Fan  Temp  Perf  Pwr:Usage/Cap|         Memory-Usage | GPU-Util  Compute M. |\n",
        "|===============================+======================+======================|\n",
        "|   0  Tesla P100-PCIE...  Off  | 00000000:00:04.0 Off |                    0 |\n",
        "| N/A   36C    P0    26W / 250W |      0MiB / 16280MiB |      0%      Default |\n",
        "+-------------------------------+----------------------+----------------------+\n",
        "                                                                               \n",
        "+-----------------------------------------------------------------------------+\n",
        "| Processes:                                                       GPU Memory |\n",
        "|  GPU       PID   Type   Process name                             Usage      |\n",
        "|=============================================================================|\n",
        "|  No running processes found                                                 |\n",
        "+-----------------------------------------------------------------------------+\n",
        "```\n",
        "\n",
        "If you have not been allocated a GPU then select `Runtime` > `Change runtime type` from the top menu and ensure that the `Runtime type` is `Python 3` and `Hardware Acceleration` is `GPU`"
      ]
    },
    {
      "cell_type": "markdown",
      "metadata": {
        "id": "oql-3Tf7lquV",
        "colab_type": "text"
      },
      "source": [
        "## Get FaceSwap\n",
        "Now we know we have a GPU instance, let's grab the faceswap codebase and setup our environment by running the following code block:"
      ]
    },
    {
      "cell_type": "code",
      "metadata": {
        "id": "iHFdBJoul9Cn",
        "colab_type": "code",
        "colab": {}
      },
      "source": [
        "!rm -rf faceswap\n",
        "!git clone --depth 1 -b master https://github.com/deepfakes/faceswap.git\n",
        "!pip install -r ./faceswap/requirements.txt\n",
        "!pip install tensorflow-gpu==1.15\n",
        "!echo \"{\\\"backend\\\": \\\"nvidia\\\"}\" >> ./faceswap/config/.faceswap\n",
        "!python ./faceswap/faceswap.py -h 2>&1 > /dev/null"
      ],
      "execution_count": 0,
      "outputs": []
    },
    {
      "cell_type": "markdown",
      "metadata": {
        "id": "Sb1aWvH3phjA",
        "colab_type": "text"
      },
      "source": [
        "## Link Google Drive\n",
        "Now we need to link your Google Drive. You will need to give Colab permissions to mount your drive, so run the code block below and follow the instructions to mount your drive:"
      ]
    },
    {
      "cell_type": "code",
      "metadata": {
        "id": "Au4XSkozmh61",
        "colab_type": "code",
        "colab": {}
      },
      "source": [
        "import os\n",
        "from google.colab import drive\n",
        "drive.mount('/content/drive/', force_remount=True)"
      ],
      "execution_count": 0,
      "outputs": []
    },
    {
      "cell_type": "markdown",
      "metadata": {
        "id": "aWiYFqK4R64L",
        "colab_type": "text"
      },
      "source": [
        "# Extract\n",
        "\n",
        "Extract faces from a video or a folder of images"
      ]
    }
  ]
}