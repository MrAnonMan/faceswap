{
  "nbformat": 4,
  "nbformat_minor": 0,
  "metadata": {
    "colab": {
      "name": "faceswap.ipynb",
      "provenance": [],
      "toc_visible": true,
      "include_colab_link": true
    },
    "kernelspec": {
      "name": "python3",
      "display_name": "Python 3"
    },
    "accelerator": "GPU"
  },
  "cells": [
    {
      "cell_type": "markdown",
      "metadata": {
        "id": "view-in-github",
        "colab_type": "text"
      },
      "source": [
        "<a href=\"https://colab.research.google.com/github/torzdf/faceswap/blob/colab/faceswap.ipynb\" target=\"_parent\"><img src=\"https://colab.research.google.com/assets/colab-badge.svg\" alt=\"Open In Colab\"/></a>"
      ]
    },
    {
      "cell_type": "markdown",
      "metadata": {
        "id": "me3hkgpOh_Cz",
        "colab_type": "text"
      },
      "source": [
        "<p align=\"left\">\n",
        "  <a href=\"https://faceswap.dev\"><img src=\"https://i.imgur.com/zHvjHnb.png\"></img></a>\n",
        "<br />&nbsp;&nbsp;&nbsp;&nbsp;&nbsp;Welcome to the FaceSwap Notebook.\n",
        "</p>\n",
        "\n"
      ]
    },
    {
      "cell_type": "markdown",
      "metadata": {
        "id": "XVhBIQ2nKify",
        "colab_type": "text"
      },
      "source": [
        "The FaceSwap Notebook is a means of running FaceSwap on Google Colab.\n",
        "\n",
        "Colab will give you a free GPU for a 12 hour period (as long as your browser window remains open).\n",
        "\n",
        "Colab will connect to your Google Drive, because as soon as the Notebook is shutdown, everything associated with it is destroyed. You should store your facesets/models etc. inside a folder in your Google Drive called `Faceswap`. If this drive does not already exist, it will be created for you.\n",
        "\n",
        "**NB:** This notebook is provided as a courtesy. It is not a priority for the FaceSwap project so there is no guarantee that it will remain up to date. "
      ]
    },
    {
      "cell_type": "markdown",
      "metadata": {
        "id": "nffWLywssMXh",
        "colab_type": "toc"
      },
      "source": [
        ">[deepfakes_faceswap](#updateTitle=true&folderId=1SOH79Y_p4__AXzzDPMReRhdNR9_BLrlT&scrollTo=me3hkgpOh_Cz)\n",
        "\n",
        ">[Prerequisites](#updateTitle=true&folderId=1SOH79Y_p4__AXzzDPMReRhdNR9_BLrlT&scrollTo=GVzyxw4xkKI7)\n",
        "\n",
        ">>[GPU Check](#updateTitle=true&folderId=1SOH79Y_p4__AXzzDPMReRhdNR9_BLrlT&scrollTo=_jYRKp5zkYMU)\n",
        "\n",
        ">>[Get FaceSwap](#updateTitle=true&folderId=1SOH79Y_p4__AXzzDPMReRhdNR9_BLrlT&scrollTo=oql-3Tf7lquV)\n",
        "\n",
        ">>[Link Google Drive](#updateTitle=true&folderId=1SOH79Y_p4__AXzzDPMReRhdNR9_BLrlT&scrollTo=Sb1aWvH3phjA)\n",
        "\n"
      ]
    },
    {
      "cell_type": "markdown",
      "metadata": {
        "id": "GVzyxw4xkKI7",
        "colab_type": "text"
      },
      "source": [
        "# Prerequisites\n",
        "First up we need to make sure we have a GPU instance and set up our environment"
      ]
    },
    {
      "cell_type": "markdown",
      "metadata": {
        "id": "_jYRKp5zkYMU",
        "colab_type": "text"
      },
      "source": [
        "## GPU Check\n",
        "Run the following code block to make sure you have been allocated a GPU:"
      ]
    },
    {
      "cell_type": "code",
      "metadata": {
        "id": "uC12cr74iDTz",
        "colab_type": "code",
        "outputId": "28a74a31-fd98-4b92-e925-d83519dc226f",
        "colab": {
          "base_uri": "https://localhost:8080/",
          "height": 329
        }
      },
      "source": [
        "!nvidia-smi"
      ],
      "execution_count": 0,
      "outputs": [
        {
          "output_type": "stream",
          "text": [
            "Tue Dec 10 23:41:15 2019       \n",
            "+-----------------------------------------------------------------------------+\n",
            "| NVIDIA-SMI 440.36       Driver Version: 418.67       CUDA Version: 10.1     |\n",
            "|-------------------------------+----------------------+----------------------+\n",
            "| GPU  Name        Persistence-M| Bus-Id        Disp.A | Volatile Uncorr. ECC |\n",
            "| Fan  Temp  Perf  Pwr:Usage/Cap|         Memory-Usage | GPU-Util  Compute M. |\n",
            "|===============================+======================+======================|\n",
            "|   0  Tesla P4            Off  | 00000000:00:04.0 Off |                    0 |\n",
            "| N/A   35C    P8     7W /  75W |      0MiB /  7611MiB |      0%      Default |\n",
            "+-------------------------------+----------------------+----------------------+\n",
            "                                                                               \n",
            "+-----------------------------------------------------------------------------+\n",
            "| Processes:                                                       GPU Memory |\n",
            "|  GPU       PID   Type   Process name                             Usage      |\n",
            "|=============================================================================|\n",
            "|  No running processes found                                                 |\n",
            "+-----------------------------------------------------------------------------+\n"
          ],
          "name": "stdout"
        }
      ]
    },
    {
      "cell_type": "markdown",
      "metadata": {
        "id": "uJDVxE5ujFbH",
        "colab_type": "text"
      },
      "source": [
        " You should receive output similar to below:\n",
        "```\n",
        "+-----------------------------------------------------------------------------+\n",
        "| NVIDIA-SMI 440.36       Driver Version: 418.67       CUDA Version: 10.1     |\n",
        "|-------------------------------+----------------------+----------------------+\n",
        "| GPU  Name        Persistence-M| Bus-Id        Disp.A | Volatile Uncorr. ECC |\n",
        "| Fan  Temp  Perf  Pwr:Usage/Cap|         Memory-Usage | GPU-Util  Compute M. |\n",
        "|===============================+======================+======================|\n",
        "|   0  Tesla P100-PCIE...  Off  | 00000000:00:04.0 Off |                    0 |\n",
        "| N/A   36C    P0    26W / 250W |      0MiB / 16280MiB |      0%      Default |\n",
        "+-------------------------------+----------------------+----------------------+\n",
        "                                                                               \n",
        "+-----------------------------------------------------------------------------+\n",
        "| Processes:                                                       GPU Memory |\n",
        "|  GPU       PID   Type   Process name                             Usage      |\n",
        "|=============================================================================|\n",
        "|  No running processes found                                                 |\n",
        "+-----------------------------------------------------------------------------+\n",
        "```\n",
        "\n",
        "If you have not been allocated a GPU then select `Runtime` > `Change runtime type` from the top menu and ensure that the `Runtime type` is `Python 3` and `Hardware Acceleration` is `GPU`"
      ]
    },
    {
      "cell_type": "markdown",
      "metadata": {
        "id": "oql-3Tf7lquV",
        "colab_type": "text"
      },
      "source": [
        "## Get FaceSwap\n",
        "Now we know we have a GPU instance, let's grab the faceswap codebase and setup our environment by running the following code block:"
      ]
    },
    {
      "cell_type": "code",
      "metadata": {
        "id": "coYuFNdeMz2M",
        "colab_type": "code",
        "outputId": "fc3673f2-f1b4-44fe-e15b-502b4eb4c589",
        "colab": {
          "base_uri": "https://localhost:8080/",
          "height": 219
        }
      },
      "source": [
        "!python -m venv faceswap"
      ],
      "execution_count": 0,
      "outputs": [
        {
          "output_type": "stream",
          "text": [
            "The virtual environment was not created successfully because ensurepip is not\n",
            "available.  On Debian/Ubuntu systems, you need to install the python3-venv\n",
            "package using the following command.\n",
            "\n",
            "    apt-get install python3-venv\n",
            "\n",
            "You may need to use sudo with that command.  After installing the python3-venv\n",
            "package, recreate your virtual environment.\n",
            "\n",
            "Failing command: ['/content/faceswap/bin/python3', '-Im', 'ensurepip', '--upgrade', '--default-pip']\n",
            "\n"
          ],
          "name": "stdout"
        }
      ]
    },
    {
      "cell_type": "code",
      "metadata": {
        "id": "iHFdBJoul9Cn",
        "colab_type": "code",
        "outputId": "d7abb672-6478-44f7-cbc4-a5a4821bb5d0",
        "colab": {
          "base_uri": "https://localhost:8080/",
          "height": 1000
        }
      },
      "source": [
        "!rm -rf faceswap\n",
        "!git clone --depth 1 -b master https://github.com/deepfakes/faceswap.git\n",
        "!pip install -r ./faceswap/requirements.txt\n",
        "!pip install tensorflow-gpu==1.15\n",
        "!echo \"{\\\"backend\\\": \\\"nvidia\\\"}\" >> ./faceswap/config/.faceswap\n",
        "!python ./faceswap/faceswap.py -h 2>&1 > /dev/null"
      ],
      "execution_count": 0,
      "outputs": [
        {
          "output_type": "stream",
          "text": [
            "Cloning into 'faceswap'...\n",
            "remote: Enumerating objects: 261, done.\u001b[K\n",
            "remote: Counting objects:   0% (1/261)\u001b[K\rremote: Counting objects:   1% (3/261)\u001b[K\rremote: Counting objects:   2% (6/261)\u001b[K\rremote: Counting objects:   3% (8/261)\u001b[K\rremote: Counting objects:   4% (11/261)\u001b[K\rremote: Counting objects:   5% (14/261)\u001b[K\rremote: Counting objects:   6% (16/261)\u001b[K\rremote: Counting objects:   7% (19/261)\u001b[K\rremote: Counting objects:   8% (21/261)\u001b[K\rremote: Counting objects:   9% (24/261)\u001b[K\rremote: Counting objects:  10% (27/261)\u001b[K\rremote: Counting objects:  11% (29/261)\u001b[K\rremote: Counting objects:  12% (32/261)\u001b[K\rremote: Counting objects:  13% (34/261)\u001b[K\rremote: Counting objects:  14% (37/261)\u001b[K\rremote: Counting objects:  15% (40/261)\u001b[K\rremote: Counting objects:  16% (42/261)\u001b[K\rremote: Counting objects:  17% (45/261)\u001b[K\rremote: Counting objects:  18% (47/261)\u001b[K\rremote: Counting objects:  19% (50/261)\u001b[K\rremote: Counting objects:  20% (53/261)\u001b[K\rremote: Counting objects:  21% (55/261)\u001b[K\rremote: Counting objects:  22% (58/261)\u001b[K\rremote: Counting objects:  23% (61/261)\u001b[K\rremote: Counting objects:  24% (63/261)\u001b[K\rremote: Counting objects:  25% (66/261)\u001b[K\rremote: Counting objects:  26% (68/261)\u001b[K\rremote: Counting objects:  27% (71/261)\u001b[K\rremote: Counting objects:  28% (74/261)\u001b[K\rremote: Counting objects:  29% (76/261)\u001b[K\rremote: Counting objects:  30% (79/261)\u001b[K\rremote: Counting objects:  31% (81/261)\u001b[K\rremote: Counting objects:  32% (84/261)\u001b[K\rremote: Counting objects:  33% (87/261)\u001b[K\rremote: Counting objects:  34% (89/261)\u001b[K\rremote: Counting objects:  35% (92/261)\u001b[K\rremote: Counting objects:  36% (94/261)\u001b[K\rremote: Counting objects:  37% (97/261)\u001b[K\rremote: Counting objects:  38% (100/261)\u001b[K\rremote: Counting objects:  39% (102/261)\u001b[K\rremote: Counting objects:  40% (105/261)\u001b[K\rremote: Counting objects:  41% (108/261)\u001b[K\rremote: Counting objects:  42% (110/261)\u001b[K\rremote: Counting objects:  43% (113/261)\u001b[K\rremote: Counting objects:  44% (115/261)\u001b[K\rremote: Counting objects:  45% (118/261)\u001b[K\rremote: Counting objects:  46% (121/261)\u001b[K\rremote: Counting objects:  47% (123/261)\u001b[K\rremote: Counting objects:  48% (126/261)\u001b[K\rremote: Counting objects:  49% (128/261)\u001b[K\rremote: Counting objects:  50% (131/261)\u001b[K\rremote: Counting objects:  51% (134/261)\u001b[K\rremote: Counting objects:  52% (136/261)\u001b[K\rremote: Counting objects:  53% (139/261)\u001b[K\rremote: Counting objects:  54% (141/261)\u001b[K\rremote: Counting objects:  55% (144/261)\u001b[K\rremote: Counting objects:  56% (147/261)\u001b[K\rremote: Counting objects:  57% (149/261)\u001b[K\rremote: Counting objects:  58% (152/261)\u001b[K\rremote: Counting objects:  59% (154/261)\u001b[K\rremote: Counting objects:  60% (157/261)\u001b[K\rremote: Counting objects:  61% (160/261)\u001b[K\rremote: Counting objects:  62% (162/261)\u001b[K\rremote: Counting objects:  63% (165/261)\u001b[K\rremote: Counting objects:  64% (168/261)\u001b[K\rremote: Counting objects:  65% (170/261)\u001b[K\rremote: Counting objects:  66% (173/261)\u001b[K\rremote: Counting objects:  67% (175/261)\u001b[K\rremote: Counting objects:  68% (178/261)\u001b[K\rremote: Counting objects:  69% (181/261)\u001b[K\rremote: Counting objects:  70% (183/261)\u001b[K\rremote: Counting objects:  71% (186/261)\u001b[K\rremote: Counting objects:  72% (188/261)\u001b[K\rremote: Counting objects:  73% (191/261)\u001b[K\rremote: Counting objects:  74% (194/261)\u001b[K\rremote: Counting objects:  75% (196/261)\u001b[K\rremote: Counting objects:  76% (199/261)\u001b[K\rremote: Counting objects:  77% (201/261)\u001b[K\rremote: Counting objects:  78% (204/261)\u001b[K\rremote: Counting objects:  79% (207/261)\u001b[K\rremote: Counting objects:  80% (209/261)\u001b[K\rremote: Counting objects:  81% (212/261)\u001b[K\rremote: Counting objects:  82% (215/261)\u001b[K\rremote: Counting objects:  83% (217/261)\u001b[K\rremote: Counting objects:  84% (220/261)\u001b[K\rremote: Counting objects:  85% (222/261)\u001b[K\rremote: Counting objects:  86% (225/261)\u001b[K\rremote: Counting objects:  87% (228/261)\u001b[K\rremote: Counting objects:  88% (230/261)\u001b[K\rremote: Counting objects:  89% (233/261)\u001b[K\rremote: Counting objects:  90% (235/261)\u001b[K\rremote: Counting objects:  91% (238/261)\u001b[K\rremote: Counting objects:  92% (241/261)\u001b[K\rremote: Counting objects:  93% (243/261)\u001b[K\rremote: Counting objects:  94% (246/261)\u001b[K\rremote: Counting objects:  95% (248/261)\u001b[K\rremote: Counting objects:  96% (251/261)\u001b[K\rremote: Counting objects:  97% (254/261)\u001b[K\rremote: Counting objects:  98% (256/261)\u001b[K\rremote: Counting objects:  99% (259/261)\u001b[K\rremote: Counting objects: 100% (261/261)\u001b[K\rremote: Counting objects: 100% (261/261), done.\u001b[K\n",
            "remote: Compressing objects: 100% (232/232), done.\u001b[K\n",
            "remote: Total 261 (delta 56), reused 91 (delta 22), pack-reused 0\u001b[K\n",
            "Receiving objects: 100% (261/261), 634.48 KiB | 1.85 MiB/s, done.\n",
            "Resolving deltas: 100% (56/56), done.\n",
            "Ignoring pywin32: markers 'sys_platform == \"win32\"' don't match your environment\n",
            "Ignoring pynvx: markers 'sys_platform == \"darwin\"' don't match your environment\n",
            "Collecting git+https://github.com/deepfakes/nvidia-ml-py3.git (from -r ./faceswap/requirements.txt (line 16))\n",
            "  Cloning https://github.com/deepfakes/nvidia-ml-py3.git to /tmp/pip-req-build-ognjxwqq\n",
            "  Running command git clone -q https://github.com/deepfakes/nvidia-ml-py3.git /tmp/pip-req-build-ognjxwqq\n",
            "Requirement already satisfied (use --upgrade to upgrade): nvidia-ml-py3==7.352.1 from git+https://github.com/deepfakes/nvidia-ml-py3.git in /usr/local/lib/python3.6/dist-packages (from -r ./faceswap/requirements.txt (line 16))\n",
            "Requirement already satisfied: tqdm in /usr/local/lib/python3.6/dist-packages (from -r ./faceswap/requirements.txt (line 1)) (4.28.1)\n",
            "Requirement already satisfied: psutil in /usr/local/lib/python3.6/dist-packages (from -r ./faceswap/requirements.txt (line 2)) (5.4.8)\n",
            "Requirement already satisfied: pathlib in /usr/local/lib/python3.6/dist-packages (from -r ./faceswap/requirements.txt (line 3)) (1.0.1)\n",
            "Requirement already satisfied: numpy==1.17.4 in /usr/local/lib/python3.6/dist-packages (from -r ./faceswap/requirements.txt (line 4)) (1.17.4)\n",
            "Requirement already satisfied: opencv-python==4.1.2.30 in /usr/local/lib/python3.6/dist-packages (from -r ./faceswap/requirements.txt (line 5)) (4.1.2.30)\n",
            "Requirement already satisfied: scikit-image in /usr/local/lib/python3.6/dist-packages (from -r ./faceswap/requirements.txt (line 6)) (0.15.0)\n",
            "Requirement already satisfied: Pillow==6.2.1 in /usr/local/lib/python3.6/dist-packages (from -r ./faceswap/requirements.txt (line 7)) (6.2.1)\n",
            "Requirement already satisfied: scikit-learn in /usr/local/lib/python3.6/dist-packages (from -r ./faceswap/requirements.txt (line 8)) (0.21.3)\n",
            "Requirement already satisfied: toposort in /usr/local/lib/python3.6/dist-packages (from -r ./faceswap/requirements.txt (line 9)) (1.5)\n",
            "Requirement already satisfied: fastcluster in /usr/local/lib/python3.6/dist-packages (from -r ./faceswap/requirements.txt (line 10)) (1.1.25)\n",
            "Requirement already satisfied: matplotlib==3.1.1 in /usr/local/lib/python3.6/dist-packages (from -r ./faceswap/requirements.txt (line 11)) (3.1.1)\n",
            "Requirement already satisfied: imageio==2.6.1 in /usr/local/lib/python3.6/dist-packages (from -r ./faceswap/requirements.txt (line 12)) (2.6.1)\n",
            "Requirement already satisfied: imageio-ffmpeg in /usr/local/lib/python3.6/dist-packages (from -r ./faceswap/requirements.txt (line 13)) (0.3.0)\n",
            "Requirement already satisfied: ffmpy==0.2.2 in /usr/local/lib/python3.6/dist-packages (from -r ./faceswap/requirements.txt (line 14)) (0.2.2)\n",
            "Requirement already satisfied: h5py==2.9.0 in /usr/local/lib/python3.6/dist-packages (from -r ./faceswap/requirements.txt (line 18)) (2.9.0)\n",
            "Requirement already satisfied: Keras==2.2.4 in /usr/local/lib/python3.6/dist-packages (from -r ./faceswap/requirements.txt (line 19)) (2.2.4)\n",
            "Requirement already satisfied: scipy>=0.17.0 in /usr/local/lib/python3.6/dist-packages (from scikit-image->-r ./faceswap/requirements.txt (line 6)) (1.3.3)\n",
            "Requirement already satisfied: PyWavelets>=0.4.0 in /usr/local/lib/python3.6/dist-packages (from scikit-image->-r ./faceswap/requirements.txt (line 6)) (1.1.1)\n",
            "Requirement already satisfied: networkx>=2.0 in /usr/local/lib/python3.6/dist-packages (from scikit-image->-r ./faceswap/requirements.txt (line 6)) (2.4)\n",
            "Requirement already satisfied: joblib>=0.11 in /usr/local/lib/python3.6/dist-packages (from scikit-learn->-r ./faceswap/requirements.txt (line 8)) (0.14.0)\n",
            "Requirement already satisfied: kiwisolver>=1.0.1 in /usr/local/lib/python3.6/dist-packages (from matplotlib==3.1.1->-r ./faceswap/requirements.txt (line 11)) (1.1.0)\n",
            "Requirement already satisfied: cycler>=0.10 in /usr/local/lib/python3.6/dist-packages (from matplotlib==3.1.1->-r ./faceswap/requirements.txt (line 11)) (0.10.0)\n",
            "Requirement already satisfied: python-dateutil>=2.1 in /usr/local/lib/python3.6/dist-packages (from matplotlib==3.1.1->-r ./faceswap/requirements.txt (line 11)) (2.6.1)\n",
            "Requirement already satisfied: pyparsing!=2.0.4,!=2.1.2,!=2.1.6,>=2.0.1 in /usr/local/lib/python3.6/dist-packages (from matplotlib==3.1.1->-r ./faceswap/requirements.txt (line 11)) (2.4.5)\n",
            "Requirement already satisfied: six in /usr/local/lib/python3.6/dist-packages (from h5py==2.9.0->-r ./faceswap/requirements.txt (line 18)) (1.12.0)\n",
            "Requirement already satisfied: keras-preprocessing>=1.0.5 in /usr/local/lib/python3.6/dist-packages (from Keras==2.2.4->-r ./faceswap/requirements.txt (line 19)) (1.1.0)\n",
            "Requirement already satisfied: pyyaml in /usr/local/lib/python3.6/dist-packages (from Keras==2.2.4->-r ./faceswap/requirements.txt (line 19)) (3.13)\n",
            "Requirement already satisfied: keras-applications>=1.0.6 in /usr/local/lib/python3.6/dist-packages (from Keras==2.2.4->-r ./faceswap/requirements.txt (line 19)) (1.0.8)\n",
            "Requirement already satisfied: decorator>=4.3.0 in /usr/local/lib/python3.6/dist-packages (from networkx>=2.0->scikit-image->-r ./faceswap/requirements.txt (line 6)) (4.4.1)\n",
            "Requirement already satisfied: setuptools in /usr/local/lib/python3.6/dist-packages (from kiwisolver>=1.0.1->matplotlib==3.1.1->-r ./faceswap/requirements.txt (line 11)) (42.0.2)\n",
            "Building wheels for collected packages: nvidia-ml-py3\n",
            "  Building wheel for nvidia-ml-py3 (setup.py) ... \u001b[?25l\u001b[?25hdone\n",
            "  Created wheel for nvidia-ml-py3: filename=nvidia_ml_py3-7.352.1-cp36-none-any.whl size=19268 sha256=c7cd37e063ccbe182c97a6fc63bef77a33a68c1f8d4832871160aaecdaa0f263\n",
            "  Stored in directory: /tmp/pip-ephem-wheel-cache-gve24baz/wheels/68/a1/dd/fc48b42f331cd35e0dc0d6d75804a6b21839f30b095c43ffc8\n",
            "Successfully built nvidia-ml-py3\n",
            "Requirement already satisfied: tensorflow-gpu==1.15 in /usr/local/lib/python3.6/dist-packages (1.15.0)\n",
            "Requirement already satisfied: termcolor>=1.1.0 in /usr/local/lib/python3.6/dist-packages (from tensorflow-gpu==1.15) (1.1.0)\n",
            "Requirement already satisfied: keras-applications>=1.0.8 in /usr/local/lib/python3.6/dist-packages (from tensorflow-gpu==1.15) (1.0.8)\n",
            "Requirement already satisfied: numpy<2.0,>=1.16.0 in /usr/local/lib/python3.6/dist-packages (from tensorflow-gpu==1.15) (1.17.4)\n",
            "Requirement already satisfied: grpcio>=1.8.6 in /usr/local/lib/python3.6/dist-packages (from tensorflow-gpu==1.15) (1.15.0)\n",
            "Requirement already satisfied: wheel>=0.26 in /usr/local/lib/python3.6/dist-packages (from tensorflow-gpu==1.15) (0.33.6)\n",
            "Requirement already satisfied: google-pasta>=0.1.6 in /usr/local/lib/python3.6/dist-packages (from tensorflow-gpu==1.15) (0.1.8)\n",
            "Requirement already satisfied: astor>=0.6.0 in /usr/local/lib/python3.6/dist-packages (from tensorflow-gpu==1.15) (0.8.0)\n",
            "Requirement already satisfied: six>=1.10.0 in /usr/local/lib/python3.6/dist-packages (from tensorflow-gpu==1.15) (1.12.0)\n",
            "Requirement already satisfied: tensorboard<1.16.0,>=1.15.0 in /usr/local/lib/python3.6/dist-packages (from tensorflow-gpu==1.15) (1.15.0)\n",
            "Requirement already satisfied: tensorflow-estimator==1.15.1 in /usr/local/lib/python3.6/dist-packages (from tensorflow-gpu==1.15) (1.15.1)\n",
            "Requirement already satisfied: keras-preprocessing>=1.0.5 in /usr/local/lib/python3.6/dist-packages (from tensorflow-gpu==1.15) (1.1.0)\n",
            "Requirement already satisfied: absl-py>=0.7.0 in /usr/local/lib/python3.6/dist-packages (from tensorflow-gpu==1.15) (0.8.1)\n",
            "Requirement already satisfied: protobuf>=3.6.1 in /usr/local/lib/python3.6/dist-packages (from tensorflow-gpu==1.15) (3.10.0)\n",
            "Requirement already satisfied: wrapt>=1.11.1 in /usr/local/lib/python3.6/dist-packages (from tensorflow-gpu==1.15) (1.11.2)\n",
            "Requirement already satisfied: gast==0.2.2 in /usr/local/lib/python3.6/dist-packages (from tensorflow-gpu==1.15) (0.2.2)\n",
            "Requirement already satisfied: opt-einsum>=2.3.2 in /usr/local/lib/python3.6/dist-packages (from tensorflow-gpu==1.15) (3.1.0)\n",
            "Requirement already satisfied: h5py in /usr/local/lib/python3.6/dist-packages (from keras-applications>=1.0.8->tensorflow-gpu==1.15) (2.9.0)\n",
            "Requirement already satisfied: setuptools>=41.0.0 in /usr/local/lib/python3.6/dist-packages (from tensorboard<1.16.0,>=1.15.0->tensorflow-gpu==1.15) (42.0.2)\n",
            "Requirement already satisfied: werkzeug>=0.11.15 in /usr/local/lib/python3.6/dist-packages (from tensorboard<1.16.0,>=1.15.0->tensorflow-gpu==1.15) (0.16.0)\n",
            "Requirement already satisfied: markdown>=2.6.8 in /usr/local/lib/python3.6/dist-packages (from tensorboard<1.16.0,>=1.15.0->tensorflow-gpu==1.15) (3.1.1)\n"
          ],
          "name": "stdout"
        }
      ]
    },
    {
      "cell_type": "markdown",
      "metadata": {
        "id": "Sb1aWvH3phjA",
        "colab_type": "text"
      },
      "source": [
        "## Link Google Drive\n",
        "Now we need to link your Google Drive. You will need to give Colab permissions to mount your drive, so run the code block below and follow the instructions to mount your drive.\n",
        "\n",
        "If a `Faceswap` folder does not already exist in your Google Drive, it will be created for you. This is where you should store your FaceSwap projects:"
      ]
    },
    {
      "cell_type": "code",
      "metadata": {
        "id": "Au4XSkozmh61",
        "colab_type": "code",
        "outputId": "57e06d8e-6524-42fa-f06d-87a8eda37e4f",
        "colab": {
          "base_uri": "https://localhost:8080/",
          "height": 90
        }
      },
      "source": [
        "import os\n",
        "from google.colab import drive\n",
        "drive.mount('/content/drive/', force_remount=True)\n",
        "ROOTDIR = \"/content/drive/My Drive/Faceswap\"\n",
        "\n",
        "if not os.path.exists(ROOTDIR):\n",
        "  print(\"Creating Faceswap folder in Google Drive\")\n",
        "  os.mkdir(ROOTDIR)\n",
        "PROJECTS = [folder for folder in os.listdir(ROOTDIR) if os.path.isdir(folder)]\n"
      ],
      "execution_count": 0,
      "outputs": [
        {
          "output_type": "stream",
          "text": [
            "/content/drive/My Drive/Faceswap3\n",
            "Creating Faceswap folder in Google Drive\n",
            "/content/drive/My Drive/Faceswap3\n",
            "[]\n"
          ],
          "name": "stdout"
        }
      ]
    },
    {
      "cell_type": "code",
      "metadata": {
        "id": "0JX3aHr1uHQ5",
        "colab_type": "code",
        "outputId": "a4d971bf-1f01-4cb1-9624-6845dfd048fe",
        "colab": {
          "base_uri": "https://localhost:8080/",
          "height": 72
        }
      },
      "source": [
        "!echo $ROOTDIR\n",
        "!echo $PROJECTS\n",
        "!ls ./faceswap/config"
      ],
      "execution_count": 0,
      "outputs": [
        {
          "output_type": "stream",
          "text": [
            "/content/drive/My Drive/Faceswap3\n",
            "[]\n",
            "convert.ini  extract.ini  train.ini\n"
          ],
          "name": "stdout"
        }
      ]
    }
  ]
}