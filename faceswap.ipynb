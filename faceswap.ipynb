{
  "nbformat": 4,
  "nbformat_minor": 0,
  "metadata": {
    "colab": {
      "name": "faceswap.ipynb",
      "provenance": [],
      "collapsed_sections": [],
      "toc_visible": true,
      "include_colab_link": true
    },
    "kernelspec": {
      "name": "python3",
      "display_name": "Python 3"
    },
    "accelerator": "GPU"
  },
  "cells": [
    {
      "cell_type": "markdown",
      "metadata": {
        "id": "view-in-github",
        "colab_type": "text"
      },
      "source": [
        "<a href=\"https://colab.research.google.com/github/torzdf/faceswap/blob/colab/faceswap.ipynb\" target=\"_parent\"><img src=\"https://colab.research.google.com/assets/colab-badge.svg\" alt=\"Open In Colab\"/></a>"
      ]
    },
    {
      "cell_type": "markdown",
      "metadata": {
        "id": "me3hkgpOh_Cz",
        "colab_type": "text"
      },
      "source": [
        "<p align=\"left\">\n",
        "  <a href=\"https://faceswap.dev\"><img src=\"https://i.imgur.com/zHvjHnb.png\"></img></a>Welcome to the FaceSwap Notebook\n",
        "</p>\n",
        "\n"
      ]
    },
    {
      "cell_type": "markdown",
      "metadata": {
        "id": "XVhBIQ2nKify",
        "colab_type": "text"
      },
      "source": [
        "The FaceSwap Notebook is a means of running FaceSwap on Google Colab.\n",
        "\n",
        "Colab will give you a free GPU for up to a 12 hour period (as long as your browser window remains open).\n",
        "\n",
        "Please make sure you understand Google Colaboratory's terms of service. This notebook is for testing out Faceswap and experimenting. It is not for creating swaps on an industrial scale. [See here for more info](https://research.google.com/colaboratory/faq.html#gpu-availability).\n",
        "\n",
        "At a minimum you must run the [Prerequisites](#scrollTo=GVzyxw4xkKI7). Once complete, you can jump to the section that your require.\n",
        "\n",
        "**NB:** This notebook is provided as a courtesy. It is not a priority for the FaceSwap project so there is no guarantee that it will remain up to date and support is likely to be limited. Please be aware that this Notebook lacks some features from the full application."
      ]
    },
    {
      "cell_type": "markdown",
      "metadata": {
        "id": "nffWLywssMXh",
        "colab_type": "toc"
      },
      "source": [
        ">[Prerequisites](#scrollTo=GVzyxw4xkKI7)\n",
        "\n",
        ">>[GPU Check](#scrollTo=_jYRKp5zkYMU)\n",
        "\n",
        ">>[Link Google Drive](#scrollTo=Sb1aWvH3phjA)\n",
        "\n",
        ">>[Get FaceSwap](#scrollTo=oql-3Tf7lquV)\n",
        "\n",
        ">[Run Faceswap](#scrollTo=Fv8MBijaU3PK)\n",
        "\n"
      ]
    },
    {
      "cell_type": "markdown",
      "metadata": {
        "id": "GVzyxw4xkKI7",
        "colab_type": "text"
      },
      "source": [
        "# Prerequisites\n",
        "First up we need to make sure we have a GPU instance and set up our environment.\n",
        "\n",
        "Whatever task you plan to perform, you must run these steps first."
      ]
    },
    {
      "cell_type": "markdown",
      "metadata": {
        "id": "_jYRKp5zkYMU",
        "colab_type": "text"
      },
      "source": [
        "## GPU Check\n",
        "Run the following code block to make sure you have been allocated a GPU:"
      ]
    },
    {
      "cell_type": "code",
      "metadata": {
        "id": "uC12cr74iDTz",
        "colab_type": "code",
        "cellView": "form",
        "colab": {}
      },
      "source": [
        "#@title\n",
        "!nvidia-smi"
      ],
      "execution_count": 0,
      "outputs": []
    },
    {
      "cell_type": "markdown",
      "metadata": {
        "id": "uJDVxE5ujFbH",
        "colab_type": "text"
      },
      "source": [
        " You should receive output similar to below:\n",
        "```\n",
        "+-----------------------------------------------------------------------------+\n",
        "| NVIDIA-SMI 440.36       Driver Version: 418.67       CUDA Version: 10.1     |\n",
        "|-------------------------------+----------------------+----------------------+\n",
        "| GPU  Name        Persistence-M| Bus-Id        Disp.A | Volatile Uncorr. ECC |\n",
        "| Fan  Temp  Perf  Pwr:Usage/Cap|         Memory-Usage | GPU-Util  Compute M. |\n",
        "|===============================+======================+======================|\n",
        "|   0  Tesla P100-PCIE...  Off  | 00000000:00:04.0 Off |                    0 |\n",
        "| N/A   36C    P0    26W / 250W |      0MiB / 16280MiB |      0%      Default |\n",
        "+-------------------------------+----------------------+----------------------+\n",
        "                                                                               \n",
        "+-----------------------------------------------------------------------------+\n",
        "| Processes:                                                       GPU Memory |\n",
        "|  GPU       PID   Type   Process name                             Usage      |\n",
        "|=============================================================================|\n",
        "|  No running processes found                                                 |\n",
        "+-----------------------------------------------------------------------------+\n",
        "```\n",
        "\n",
        "If you have not been allocated a GPU then select `Runtime` > `Change runtime type` from the top menu and ensure that the `Runtime type` is `Python 3` and `Hardware Acceleration` is `GPU`"
      ]
    },
    {
      "cell_type": "markdown",
      "metadata": {
        "id": "Sb1aWvH3phjA",
        "colab_type": "text"
      },
      "source": [
        "## Link Google Drive\n",
        "Now we know we have a GPU instance, we need to link your Google Drive.\n",
        "\n",
        "You will need to give Colab permissions to mount your drive, so run the code block below and follow the instructions to mount your drive:"
      ]
    },
    {
      "cell_type": "code",
      "metadata": {
        "id": "Au4XSkozmh61",
        "colab_type": "code",
        "cellView": "form",
        "colab": {}
      },
      "source": [
        "#@title\n",
        "import os\n",
        "_ROOT=\"/content/drive/My Drive/_faceswap_colab\"\n",
        "from google.colab import drive\n",
        "drive.mount('/content/drive/', force_remount=True)\n",
        "\n",
        "if not os.path.exists(_ROOT):\n",
        "  !mkdir \"$_ROOT\"\n",
        "\n",
        "!echo -en \"\\e[32m\"\n",
        "print(\"Google Drive Linked\")\n",
        "!echo -en \"\\e[0m\""
      ],
      "execution_count": 0,
      "outputs": []
    },
    {
      "cell_type": "markdown",
      "metadata": {
        "id": "oql-3Tf7lquV",
        "colab_type": "text"
      },
      "source": [
        "## Get FaceSwap\n",
        "Time to tell Colab where to find/install the FaceSwap App. Select your options in the form, then hit play:"
      ]
    },
    {
      "cell_type": "code",
      "metadata": {
        "colab_type": "code",
        "cellView": "form",
        "id": "l2h-sgYqQb2z",
        "colab": {}
      },
      "source": [
        "#@title App install location\n",
        "#@markdown Where do you want Faceswap installed?\n",
        "#@markdown * GoogleDrive: [Recommended] - Store the FaceSwap App on your Google\n",
        "#@markdown Drive. This means any config files that are changed won't get lost\n",
        "#@markdown when the instance destroys. However it will take up about 200MB of\n",
        "#@markdown space.\n",
        "#@markdown * Local: FaceSwap App will be stored in the Colab Notebook. The app\n",
        "#@markdown will disappear when the instance dies.\n",
        "location = \"GoogleDrive\"  #@param ['GoogleDrive', 'Local']\n",
        "#@markdown Do You want to update an existing app or create a new one?\n",
        "#@markdown * Update: [Recommended] - If the FaceSwap App is already installed in\n",
        "#@markdown the chosen location, it will be updated. If the app doesn't already\n",
        "#@markdown exist, it will be installed.\n",
        "#@markdown * New: Uninstall any installed FaceSwap App and Reinstall for the\n",
        "#@markdown chosen location.\n",
        "app_update = \"Update\"  #@param ['New', 'Update']\n",
        "\n",
        "import os\n",
        "import shutil\n",
        "import sys\n",
        "\n",
        "_ROOT=\"/content/drive/My Drive/_faceswap_colab\" if location == \"GoogleDrive\" else \".\"\n",
        "_APPDIR=os.path.join(_ROOT, \"faceswap\")\n",
        "_APP=os.path.join(_APPDIR, \"faceswap.py\")\n",
        "fs_backend_path=os.path.join(_APPDIR, \"config\", \".faceswap\")\n",
        "\n",
        "print(\"\\033[32mInstalling Tensorfow...\\033[0m\")\n",
        "!pip install tensorflow-gpu==1.15\n",
        "\n",
        "print(\"\\033[32mApp Location:\", _APP)\n",
        "\n",
        "# Dummy in a backend config in root dir to prevent backend selector popping\n",
        "sys_location = os.path.dirname(os.path.realpath(sys.argv[0]))\n",
        "sys_conf = os.path.join(sys_location, \"config\", \".faceswap\")\n",
        "if not os.path.isdir(os.path.dirname(sys_conf)):\n",
        "  os.mkdir(os.path.dirname(sys_conf))\n",
        "  with open(sys_conf, \"w\") as sys_config:\n",
        "    sys_config.write(\"{\\\"backend\\\": \\\"nvidia\\\"}\")\n",
        "\n",
        "if app_update == \"New\" or not os.path.isfile(_APP):\n",
        "\n",
        "  if os.path.isdir(_APPDIR):\n",
        "    print(\"Uninstalling pre-existing app...\")\n",
        "    shutil.rmtree(_APPDIR)\n",
        "\n",
        "  print(\"Getting Faceswap...\")\n",
        "  !echo -en \"\\e[0m\"\n",
        "  !git clone --depth 1 -b master https://github.com/deepfakes/faceswap.git \"$_APPDIR\"\n",
        "  %cd \"$_APPDIR\"\n",
        "\n",
        "  print(\"\\033[32mInstalling Dependencies. This may take a minute or two...\\033[0m\")\n",
        "  !pip install -r \"$_APPDIR/requirements.txt\"\n",
        "\n",
        "  print(\"\\033[32mSetting backend to nvidia:\\033[0m\", fs_backend_path)\n",
        "  with open(fs_backend_path, \"w\") as backend_config:\n",
        "    backend_config.write(\"{\\\"backend\\\": \\\"nvidia\\\"}\")\n",
        "else:\n",
        "  %cd \"$_APPDIR\"\n",
        "  \n",
        "  print(\"\\033[32mUpdating App...\\033[0m\")\n",
        "  !git pull 2>&1\n",
        "\n",
        "  print(\"\\033[32mSetting backend to nvidia:\\033[0m\", fs_backend_path)\n",
        "  with open(fs_backend_path, \"w\") as backend_config:\n",
        "    backend_config.write(\"{\\\"backend\\\": \\\"nvidia\\\"}\")\n",
        "\n",
        "  print(\"\\033[32mUpdating Dependencies. This may take a minute or two...\\033[0m\")\n",
        "  !python \"$_APPDIR/update_deps.py\"\n",
        "\n",
        "print(\"\\033[32mFaceswap Ready!\\033[0m\")\n"
      ],
      "execution_count": 0,
      "outputs": []
    },
    {
      "cell_type": "markdown",
      "metadata": {
        "id": "Fv8MBijaU3PK",
        "colab_type": "text"
      },
      "source": [
        "# Run Faceswap\n",
        "Now we're all setup, it's time to choose a task.\n",
        "\n",
        "Remember, you can edit the plugin configuration files here before proceeding:\n",
        "`/content/drive/My Drive/_faceswap_colab/faceswap/config`\n",
        "\n",
        "Select your option in the form, then hit play:"
      ]
    },
    {
      "cell_type": "code",
      "metadata": {
        "id": "Cj4KQarKUwmM",
        "colab_type": "code",
        "cellView": "form",
        "colab": {}
      },
      "source": [
        "#@title Faceswap Task\n",
        "#@markdown Which task do you want to run?\n",
        "task = \"Extract\"  #@param ['Extract', 'Train', 'Convert']\n",
        "#@markdown Once you're happy with your selection, run this code block to get task options.\n",
        "\n",
        "from textwrap import wrap\n",
        "from ipywidgets import widgets\n",
        "def get_cliopts(section):\n",
        "  \"\"\" obtain the cli options for the given section \"\"\"\n",
        "  import lib.cli as cli\n",
        "  import inspect\n",
        "  mod_class=[name for name, obj in inspect.getmembers(cli)\n",
        "             if inspect.isclass(obj) and name.lower().endswith(\"args\")\n",
        "             and name.lower().startswith(section)\n",
        "             and name.lower() != \"extractconvertargs\"][0]\n",
        "\n",
        "  name = mod_class.lower().replace(\"args\", \"\")\n",
        "  meth = getattr(cli, mod_class)(None, name)\n",
        "  print(\"\\033[32m{}\\033[0m\".format(name.title()))\n",
        "  print(meth.info.split(\"\\n\")[0], \"\\n\")\n",
        "\n",
        "  args = meth.argument_list + meth.optional_arguments + meth.global_arguments\n",
        "  final_args = []\n",
        "  for arg in args:\n",
        "    action = arg.get(\"action\", None)\n",
        "    _opt_name = arg[\"opts\"][-1].replace(\"--\", \"\")\n",
        "    if _opt_name in (\"logfile\", \"gui\", \"Singleprocess\"):\n",
        "      continue\n",
        "    if action == getattr(cli, \"Radio\"):\n",
        "      arg[\"control\"] = widgets.RadioButtons(\n",
        "          options=arg.get(\"choices\", []),\n",
        "        value=arg.get(\"default\", None),\n",
        "          disabled=False)\n",
        "    elif action == getattr(cli, \"Slider\") and arg[\"type\"] == int:\n",
        "      arg[\"control\"] = widgets.IntSlider(\n",
        "        value=arg.get(\"default\", None),\n",
        "        min=arg[\"min_max\"][0],\n",
        "        max=arg[\"min_max\"][1],\n",
        "        step=arg[\"rounding\"],\n",
        "        disabled=False,\n",
        "        continuous_update=False,\n",
        "        orientation='horizontal',\n",
        "        readout=True,\n",
        "        readout_format='d',\n",
        "        options=arg.get(\"choices\", []))\n",
        "    elif action == getattr(cli, \"Slider\") and arg[\"type\"] == float:\n",
        "      arg[\"control\"] = widgets.FloatSlider(\n",
        "        value=arg.get(\"default\", None),\n",
        "        min=arg[\"min_max\"][0],\n",
        "        max=arg[\"min_max\"][1],\n",
        "        step=arg[\"rounding\"] / 100,\n",
        "        disabled=False,\n",
        "        continuous_update=False,\n",
        "        orientation='horizontal',\n",
        "        readout=True,\n",
        "        readout_format='.1f')\n",
        "    elif action == \"store_true\":\n",
        "      arg[\"control\"] = widgets.Checkbox(\n",
        "        value=arg.get(\"default\", None),\n",
        "        disabled=False)\n",
        "    elif arg.get(\"choices\", None) is not None:\n",
        "      arg[\"control\"] = widgets.Dropdown(\n",
        "        options=arg[\"choices\"],\n",
        "        value=arg.get(\"default\", None),\n",
        "        disabled=False)\n",
        "    elif arg.get(\"type\", str) == int:\n",
        "      arg[\"control\"] = widgets.IntText(\n",
        "        value=arg.get(\"default\", None),\n",
        "        disabled=False)\n",
        "    elif arg.get(\"type\", str) == float:\n",
        "      arg[\"control\"] = widgets.FloatText(\n",
        "        value=arg.get(\"default\", None),\n",
        "        disabled=False)\n",
        "    else:\n",
        "      arg[\"control\"] = widgets.Text(\n",
        "        value=arg.get(\"default\", None),\n",
        "        placeholder='Type something',\n",
        "        disabled=False)      \n",
        "    final_args.append(arg)\n",
        "  return final_args\n",
        "\n",
        "_cli_opts = get_cliopts(task.lower())\n",
        "_groups = dict()\n",
        "\n",
        "for opt in _cli_opts:\n",
        "  _groups.setdefault(opt.get(\"group\", None), []).append(opt)\n",
        "\n",
        "for group, opts in _groups.items():\n",
        "  print(\"\\033[31m{}\\n== {}\\n{}\\033[0m\".format(\"=\" * 40, group, \"=\" * 40))\n",
        "  for opt in opts:\n",
        "    _opt_name = opt[\"opts\"][-1].replace(\"--\", \"\")\n",
        "    print(\"-- \\033[34m{}\\033[0m {}\".format(_opt_name, \"-\" * 100)[:109])\n",
        "    display(opt[\"control\"])\n",
        "\n",
        "    _hlp = opt.get(\"help\", \"\")\n",
        "    if _hlp.startswith(\"R|\"):\n",
        "      line = _hlp[2:].replace(\"L|\", \"L|  - \")\n",
        "      for row in line.split(\"L|\"):\n",
        "        for outp in wrap(row, 100):\n",
        "          print(outp)\n",
        "    else: \n",
        "      for line in wrap(opt.get(\"help\", \"\"), 100):\n",
        "        print(line)\n",
        "    print(\"{}\\n\".format(\"-\" * 100))\n"
      ],
      "execution_count": 0,
      "outputs": []
    }
  ]
}